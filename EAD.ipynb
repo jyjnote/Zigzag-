{
 "cells": [
  {
   "cell_type": "code",
   "execution_count": 2,
   "metadata": {},
   "outputs": [],
   "source": [
    "import numpy as np\n",
    "import pandas as pd\n"
   ]
  },
  {
   "cell_type": "code",
   "execution_count": 3,
   "metadata": {},
   "outputs": [],
   "source": [
    "T_shirt_1015,T_shirt_daily,bla_shirt_bay,neat_near=pd.read_csv(r\"C:\\Users\\jaeyeon\\Desktop\\neat_T_shirt_1015.csv\",index_col=0),pd.read_csv(r\"C:\\Users\\jaeyeon\\Desktop\\neat_T_shirt_daily.csv\",index_col=0),pd.read_csv(r\"C:\\Users\\jaeyeon\\Desktop\\neat_bla_shirt_bay.csv\",index_col=0),pd.read_csv(r\"C:\\Users\\jaeyeon\\Desktop\\neat_near.csv\",index_col=0)\n"
   ]
  },
  {
   "cell_type": "code",
   "execution_count": 4,
   "metadata": {},
   "outputs": [
    {
     "data": {
      "text/html": [
       "<div>\n",
       "<style scoped>\n",
       "    .dataframe tbody tr th:only-of-type {\n",
       "        vertical-align: middle;\n",
       "    }\n",
       "\n",
       "    .dataframe tbody tr th {\n",
       "        vertical-align: top;\n",
       "    }\n",
       "\n",
       "    .dataframe thead th {\n",
       "        text-align: right;\n",
       "    }\n",
       "</style>\n",
       "<table border=\"1\" class=\"dataframe\">\n",
       "  <thead>\n",
       "    <tr style=\"text-align: right;\">\n",
       "      <th></th>\n",
       "      <th>중분류</th>\n",
       "      <th>브랜드</th>\n",
       "      <th>상품명</th>\n",
       "      <th>리뷰</th>\n",
       "      <th>날짜</th>\n",
       "      <th>사이즈_평가</th>\n",
       "      <th>퀄리티_평가</th>\n",
       "      <th>색감_평가</th>\n",
       "      <th>구매욕상승</th>\n",
       "      <th>궁금증해소</th>\n",
       "    </tr>\n",
       "  </thead>\n",
       "  <tbody>\n",
       "    <tr>\n",
       "      <th>0</th>\n",
       "      <td>니트/스웨터</td>\n",
       "      <td>1015마켓</td>\n",
       "      <td>[#자체제작#5만장완판]셀라비 크롭 니트</td>\n",
       "      <td>허리라인 잘 잡아주고 팔뚝부분은 많이 안붙어서 다리도 길어보이고 너무 좋아요 !! ...</td>\n",
       "      <td>2024-01-10</td>\n",
       "      <td>정사이즈예요</td>\n",
       "      <td>아주 만족해요</td>\n",
       "      <td>화면과 비슷해요</td>\n",
       "      <td>0</td>\n",
       "      <td>7</td>\n",
       "    </tr>\n",
       "    <tr>\n",
       "      <th>1</th>\n",
       "      <td>니트/스웨터</td>\n",
       "      <td>1015마켓</td>\n",
       "      <td>[#자체제작#5만장완판]셀라비 크롭 니트</td>\n",
       "      <td>엄청가성비좋아요~~!! 탄탄합니다.\\n20대보다는 30대 크롭니트느낌입니다.\\n넥라...</td>\n",
       "      <td>2023-12-07</td>\n",
       "      <td>정사이즈예요</td>\n",
       "      <td>아주 만족해요</td>\n",
       "      <td>화면과 비슷해요</td>\n",
       "      <td>2</td>\n",
       "      <td>16</td>\n",
       "    </tr>\n",
       "    <tr>\n",
       "      <th>2</th>\n",
       "      <td>니트/스웨터</td>\n",
       "      <td>1015마켓</td>\n",
       "      <td>[#자체제작#5만장완판]셀라비 크롭 니트</td>\n",
       "      <td>154 후기입니다. \\n적당히 파져있어서 답답해보이지않아서 좋아요. \\n날 선선할땐...</td>\n",
       "      <td>2023-11-01</td>\n",
       "      <td>정사이즈예요</td>\n",
       "      <td>보통이에요</td>\n",
       "      <td>화면과 비슷해요</td>\n",
       "      <td>18</td>\n",
       "      <td>0</td>\n",
       "    </tr>\n",
       "    <tr>\n",
       "      <th>3</th>\n",
       "      <td>니트/스웨터</td>\n",
       "      <td>1015마켓</td>\n",
       "      <td>[#자체제작#5만장완판]셀라비 크롭 니트</td>\n",
       "      <td>나만 입고 싶은 유넥 니트..🤍 담날 여행이라 급하게 배송빠른 아이 찾다가 딱 갖고...</td>\n",
       "      <td>2023-09-25</td>\n",
       "      <td>정사이즈예요</td>\n",
       "      <td>아주 만족해요</td>\n",
       "      <td>화면과 비슷해요</td>\n",
       "      <td>33</td>\n",
       "      <td>1</td>\n",
       "    </tr>\n",
       "    <tr>\n",
       "      <th>4</th>\n",
       "      <td>니트/스웨터</td>\n",
       "      <td>1015마켓</td>\n",
       "      <td>[#자체제작#5만장완판]셀라비 크롭 니트</td>\n",
       "      <td>재잘이랑 두께 맘에 들어요. 얇지 않아서 겨울에 많이 입을 수 있을거 같아요. 길이...</td>\n",
       "      <td>2023-10-06</td>\n",
       "      <td>정사이즈예요</td>\n",
       "      <td>아주 만족해요</td>\n",
       "      <td>화면과 비슷해요</td>\n",
       "      <td>11</td>\n",
       "      <td>9</td>\n",
       "    </tr>\n",
       "    <tr>\n",
       "      <th>...</th>\n",
       "      <td>...</td>\n",
       "      <td>...</td>\n",
       "      <td>...</td>\n",
       "      <td>...</td>\n",
       "      <td>...</td>\n",
       "      <td>...</td>\n",
       "      <td>...</td>\n",
       "      <td>...</td>\n",
       "      <td>...</td>\n",
       "      <td>...</td>\n",
       "    </tr>\n",
       "    <tr>\n",
       "      <th>278</th>\n",
       "      <td>니트/스웨터</td>\n",
       "      <td>니어</td>\n",
       "      <td>[평점4.8/인증핏] 폴드 꽈배기 U넥/라운드/브이넥 3가지 타입 크롭 반팔 니트</td>\n",
       "      <td>깔별로 있음 너무 예뻐요 팔 핏 보이시죠 진짜 날씬해보이고 근데 허리 부분은 생각보...</td>\n",
       "      <td>2022-09-29</td>\n",
       "      <td>정사이즈예요</td>\n",
       "      <td>보통이에요</td>\n",
       "      <td>화면과 비슷해요</td>\n",
       "      <td>3</td>\n",
       "      <td>0</td>\n",
       "    </tr>\n",
       "    <tr>\n",
       "      <th>279</th>\n",
       "      <td>니트/스웨터</td>\n",
       "      <td>니어</td>\n",
       "      <td>[평점4.8/인증핏] 폴드 꽈배기 U넥/라운드/브이넥 3가지 타입 크롭 반팔 니트</td>\n",
       "      <td>팔뚝살 많은데 커버 엄청 잘 해줘요! 그 부분이 제일로 만족 ..❤︎ ❤︎ ❤︎\\n...</td>\n",
       "      <td>2022-09-28</td>\n",
       "      <td>정사이즈예요</td>\n",
       "      <td>보통이에요</td>\n",
       "      <td>화면과 비슷해요</td>\n",
       "      <td>0</td>\n",
       "      <td>0</td>\n",
       "    </tr>\n",
       "    <tr>\n",
       "      <th>280</th>\n",
       "      <td>니트/스웨터</td>\n",
       "      <td>니어</td>\n",
       "      <td>[평점4.8/인증핏] 폴드 꽈배기 U넥/라운드/브이넥 3가지 타입 크롭 반팔 니트</td>\n",
       "      <td>허리가 얇고 다리가 굵은 편이여서 허리를 잡아줘야 날씬해보이는데 이 옷은 모든걸 부...</td>\n",
       "      <td>2022-09-21</td>\n",
       "      <td>정사이즈예요</td>\n",
       "      <td>아주 만족해요</td>\n",
       "      <td>화면과 비슷해요</td>\n",
       "      <td>0</td>\n",
       "      <td>0</td>\n",
       "    </tr>\n",
       "    <tr>\n",
       "      <th>281</th>\n",
       "      <td>니트/스웨터</td>\n",
       "      <td>니어</td>\n",
       "      <td>[평점4.8/인증핏] 폴드 꽈배기 U넥/라운드/브이넥 3가지 타입 크롭 반팔 니트</td>\n",
       "      <td>옷 정말 예뻐요~ 165,55 정도인데 살짝 작은 느낌도 들지만 잘 입구 있어요!!...</td>\n",
       "      <td>2022-09-12</td>\n",
       "      <td>정사이즈예요</td>\n",
       "      <td>보통이에요</td>\n",
       "      <td>화면과 비슷해요</td>\n",
       "      <td>0</td>\n",
       "      <td>0</td>\n",
       "    </tr>\n",
       "    <tr>\n",
       "      <th>282</th>\n",
       "      <td>니트/스웨터</td>\n",
       "      <td>니어</td>\n",
       "      <td>[평점4.8/인증핏] 폴드 꽈배기 U넥/라운드/브이넥 3가지 타입 크롭 반팔 니트</td>\n",
       "      <td>핑크 완전 땔긔우유 색이에요 ㅠㅠ 넘 예뻐요옹 제가 팔뚝살이 있는 편인데 커버 완전...</td>\n",
       "      <td>2022-09-02</td>\n",
       "      <td>정사이즈예요</td>\n",
       "      <td>아주 만족해요</td>\n",
       "      <td>화면과 비슷해요</td>\n",
       "      <td>0</td>\n",
       "      <td>0</td>\n",
       "    </tr>\n",
       "  </tbody>\n",
       "</table>\n",
       "<p>2599 rows × 10 columns</p>\n",
       "</div>"
      ],
      "text/plain": [
       "        중분류     브랜드                                            상품명  \\\n",
       "0    니트/스웨터  1015마켓                         [#자체제작#5만장완판]셀라비 크롭 니트   \n",
       "1    니트/스웨터  1015마켓                         [#자체제작#5만장완판]셀라비 크롭 니트   \n",
       "2    니트/스웨터  1015마켓                         [#자체제작#5만장완판]셀라비 크롭 니트   \n",
       "3    니트/스웨터  1015마켓                         [#자체제작#5만장완판]셀라비 크롭 니트   \n",
       "4    니트/스웨터  1015마켓                         [#자체제작#5만장완판]셀라비 크롭 니트   \n",
       "..      ...     ...                                            ...   \n",
       "278  니트/스웨터      니어  [평점4.8/인증핏] 폴드 꽈배기 U넥/라운드/브이넥 3가지 타입 크롭 반팔 니트   \n",
       "279  니트/스웨터      니어  [평점4.8/인증핏] 폴드 꽈배기 U넥/라운드/브이넥 3가지 타입 크롭 반팔 니트   \n",
       "280  니트/스웨터      니어  [평점4.8/인증핏] 폴드 꽈배기 U넥/라운드/브이넥 3가지 타입 크롭 반팔 니트   \n",
       "281  니트/스웨터      니어  [평점4.8/인증핏] 폴드 꽈배기 U넥/라운드/브이넥 3가지 타입 크롭 반팔 니트   \n",
       "282  니트/스웨터      니어  [평점4.8/인증핏] 폴드 꽈배기 U넥/라운드/브이넥 3가지 타입 크롭 반팔 니트   \n",
       "\n",
       "                                                    리뷰          날짜  사이즈_평가  \\\n",
       "0    허리라인 잘 잡아주고 팔뚝부분은 많이 안붙어서 다리도 길어보이고 너무 좋아요 !! ...  2024-01-10  정사이즈예요   \n",
       "1    엄청가성비좋아요~~!! 탄탄합니다.\\n20대보다는 30대 크롭니트느낌입니다.\\n넥라...  2023-12-07  정사이즈예요   \n",
       "2    154 후기입니다. \\n적당히 파져있어서 답답해보이지않아서 좋아요. \\n날 선선할땐...  2023-11-01  정사이즈예요   \n",
       "3    나만 입고 싶은 유넥 니트..🤍 담날 여행이라 급하게 배송빠른 아이 찾다가 딱 갖고...  2023-09-25  정사이즈예요   \n",
       "4    재잘이랑 두께 맘에 들어요. 얇지 않아서 겨울에 많이 입을 수 있을거 같아요. 길이...  2023-10-06  정사이즈예요   \n",
       "..                                                 ...         ...     ...   \n",
       "278  깔별로 있음 너무 예뻐요 팔 핏 보이시죠 진짜 날씬해보이고 근데 허리 부분은 생각보...  2022-09-29  정사이즈예요   \n",
       "279  팔뚝살 많은데 커버 엄청 잘 해줘요! 그 부분이 제일로 만족 ..❤︎ ❤︎ ❤︎\\n...  2022-09-28  정사이즈예요   \n",
       "280  허리가 얇고 다리가 굵은 편이여서 허리를 잡아줘야 날씬해보이는데 이 옷은 모든걸 부...  2022-09-21  정사이즈예요   \n",
       "281  옷 정말 예뻐요~ 165,55 정도인데 살짝 작은 느낌도 들지만 잘 입구 있어요!!...  2022-09-12  정사이즈예요   \n",
       "282  핑크 완전 땔긔우유 색이에요 ㅠㅠ 넘 예뻐요옹 제가 팔뚝살이 있는 편인데 커버 완전...  2022-09-02  정사이즈예요   \n",
       "\n",
       "      퀄리티_평가     색감_평가  구매욕상승  궁금증해소  \n",
       "0    아주 만족해요  화면과 비슷해요      0      7  \n",
       "1    아주 만족해요  화면과 비슷해요      2     16  \n",
       "2      보통이에요  화면과 비슷해요     18      0  \n",
       "3    아주 만족해요  화면과 비슷해요     33      1  \n",
       "4    아주 만족해요  화면과 비슷해요     11      9  \n",
       "..       ...       ...    ...    ...  \n",
       "278    보통이에요  화면과 비슷해요      3      0  \n",
       "279    보통이에요  화면과 비슷해요      0      0  \n",
       "280  아주 만족해요  화면과 비슷해요      0      0  \n",
       "281    보통이에요  화면과 비슷해요      0      0  \n",
       "282  아주 만족해요  화면과 비슷해요      0      0  \n",
       "\n",
       "[2599 rows x 10 columns]"
      ]
     },
     "execution_count": 4,
     "metadata": {},
     "output_type": "execute_result"
    }
   ],
   "source": [
    "data=pd.concat([T_shirt_1015,T_shirt_daily,bla_shirt_bay,neat_near])\n",
    "data"
   ]
  },
  {
   "cell_type": "code",
   "execution_count": 5,
   "metadata": {},
   "outputs": [
    {
     "data": {
      "text/html": [
       "<div>\n",
       "<style scoped>\n",
       "    .dataframe tbody tr th:only-of-type {\n",
       "        vertical-align: middle;\n",
       "    }\n",
       "\n",
       "    .dataframe tbody tr th {\n",
       "        vertical-align: top;\n",
       "    }\n",
       "\n",
       "    .dataframe thead th {\n",
       "        text-align: right;\n",
       "    }\n",
       "</style>\n",
       "<table border=\"1\" class=\"dataframe\">\n",
       "  <thead>\n",
       "    <tr style=\"text-align: right;\">\n",
       "      <th></th>\n",
       "      <th>중분류</th>\n",
       "      <th>브랜드</th>\n",
       "      <th>상품명</th>\n",
       "      <th>리뷰</th>\n",
       "      <th>날짜</th>\n",
       "      <th>사이즈_평가</th>\n",
       "      <th>퀄리티_평가</th>\n",
       "      <th>색감_평가</th>\n",
       "      <th>구매욕상승</th>\n",
       "      <th>궁금증해소</th>\n",
       "    </tr>\n",
       "  </thead>\n",
       "  <tbody>\n",
       "    <tr>\n",
       "      <th>15</th>\n",
       "      <td>니트/스웨터</td>\n",
       "      <td>니어</td>\n",
       "      <td>[평점4.7/4,000개리뷰] 캐시미어 캐론 꽈배기 세미 크롭 U넥/브이넥 이너 니트</td>\n",
       "      <td>그림보다는 채도가 있고 사진보다는 덜합니다 명도 낮은 딱 정석 네이비! 생각하시면 ...</td>\n",
       "      <td>2022-01-05</td>\n",
       "      <td>정사이즈예요</td>\n",
       "      <td>보통이에요</td>\n",
       "      <td>화면과 비슷해요</td>\n",
       "      <td>1535</td>\n",
       "      <td>3</td>\n",
       "    </tr>\n",
       "    <tr>\n",
       "      <th>3</th>\n",
       "      <td>셔츠</td>\n",
       "      <td>데일리쥬</td>\n",
       "      <td>[2만장판매/MADE] 휴버트 오버핏 코튼 셔츠 - 10 color</td>\n",
       "      <td>제대로 나온 사진은 없는데 아우터로 힙한 느낌 내기 딱 좋아요 ! 바닷가 놀러갈 때...</td>\n",
       "      <td>2022-07-08</td>\n",
       "      <td>정사이즈예요</td>\n",
       "      <td>아주 만족해요</td>\n",
       "      <td>화면과 비슷해요</td>\n",
       "      <td>1081</td>\n",
       "      <td>0</td>\n",
       "    </tr>\n",
       "    <tr>\n",
       "      <th>44</th>\n",
       "      <td>니트/스웨터</td>\n",
       "      <td>1015마켓</td>\n",
       "      <td>[#자체제작#5만장완판]셀라비 크롭 니트</td>\n",
       "      <td>후기에서 다들 웜톤이랑 잘맞는 예쁜 베이비핑크라고 해서 그 말 믿고 시켰는데……… ...</td>\n",
       "      <td>2023-01-28</td>\n",
       "      <td>정사이즈예요</td>\n",
       "      <td>보통이에요</td>\n",
       "      <td>화면과 비슷해요</td>\n",
       "      <td>703</td>\n",
       "      <td>37</td>\n",
       "    </tr>\n",
       "    <tr>\n",
       "      <th>782</th>\n",
       "      <td>니트/스웨터</td>\n",
       "      <td>베이델리</td>\n",
       "      <td>[울함유/퀄보장]후끈 투웨이 울 니트집업</td>\n",
       "      <td>오배송으로 미안하다고 소소한 사은품 이러면서 보내온게 ㅋㅋ?? 구멍 빵꾸 개 많이 ...</td>\n",
       "      <td>2021-11-17</td>\n",
       "      <td>정사이즈예요</td>\n",
       "      <td>보통이에요</td>\n",
       "      <td>화면과 비슷해요</td>\n",
       "      <td>218</td>\n",
       "      <td>0</td>\n",
       "    </tr>\n",
       "    <tr>\n",
       "      <th>11</th>\n",
       "      <td>니트/스웨터</td>\n",
       "      <td>니어</td>\n",
       "      <td>[평점4.7/4,000개리뷰] 캐시미어 캐론 꽈배기 세미 크롭 U넥/브이넥 이너 니트</td>\n",
       "      <td>컬러 미친 남자친구 딱대 크리스마스 레드콩주간다\\n좋냐? 좋냐구 ㅋㅋ 야 야 아 벌...</td>\n",
       "      <td>2022-12-19</td>\n",
       "      <td>정사이즈예요</td>\n",
       "      <td>아주 만족해요</td>\n",
       "      <td>화면과 비슷해요</td>\n",
       "      <td>201</td>\n",
       "      <td>0</td>\n",
       "    </tr>\n",
       "    <tr>\n",
       "      <th>...</th>\n",
       "      <td>...</td>\n",
       "      <td>...</td>\n",
       "      <td>...</td>\n",
       "      <td>...</td>\n",
       "      <td>...</td>\n",
       "      <td>...</td>\n",
       "      <td>...</td>\n",
       "      <td>...</td>\n",
       "      <td>...</td>\n",
       "      <td>...</td>\n",
       "    </tr>\n",
       "    <tr>\n",
       "      <th>896</th>\n",
       "      <td>티셔츠</td>\n",
       "      <td>데일리쥬</td>\n",
       "      <td>[1만2천장판매] 코헬 베이직 폴라 티셔츠 - 12 color</td>\n",
       "      <td>니트 후드 안에 이너로 입었는데 따뜻하고 좋았어요! 다만 한 번 빨고 나니까 팔 길...</td>\n",
       "      <td>2023-02-13</td>\n",
       "      <td>정사이즈예요</td>\n",
       "      <td>보통이에요</td>\n",
       "      <td>화면과 비슷해요</td>\n",
       "      <td>0</td>\n",
       "      <td>0</td>\n",
       "    </tr>\n",
       "    <tr>\n",
       "      <th>895</th>\n",
       "      <td>티셔츠</td>\n",
       "      <td>데일리쥬</td>\n",
       "      <td>[1만2천장판매] 코헬 베이직 폴라 티셔츠 - 12 color</td>\n",
       "      <td>생각 보다 얇아서 안에 비침도 좀 있어요\\n카라 부분은 약간 조이는 감이 있어서 한...</td>\n",
       "      <td>2023-02-17</td>\n",
       "      <td>작아요</td>\n",
       "      <td>보통이에요</td>\n",
       "      <td>화면과 비슷해요</td>\n",
       "      <td>0</td>\n",
       "      <td>0</td>\n",
       "    </tr>\n",
       "    <tr>\n",
       "      <th>894</th>\n",
       "      <td>티셔츠</td>\n",
       "      <td>데일리쥬</td>\n",
       "      <td>[1만2천장판매] 코헬 베이직 폴라 티셔츠 - 12 color</td>\n",
       "      <td>엄청 쫀쫀한 핏이라서 블랙도 구매했어용 겨울 시작 됐을때 다시 재구매할껄 그랬어요ㅠ...</td>\n",
       "      <td>2023-02-27</td>\n",
       "      <td>정사이즈예요</td>\n",
       "      <td>보통이에요</td>\n",
       "      <td>화면과 비슷해요</td>\n",
       "      <td>0</td>\n",
       "      <td>0</td>\n",
       "    </tr>\n",
       "    <tr>\n",
       "      <th>893</th>\n",
       "      <td>티셔츠</td>\n",
       "      <td>데일리쥬</td>\n",
       "      <td>[1만2천장판매] 코헬 베이직 폴라 티셔츠 - 12 color</td>\n",
       "      <td>결혼식때 입고 가려고 샀는데요. 소재도 부드럽고 무난해서 어디든 다 어울립니다! 다...</td>\n",
       "      <td>2023-03-07</td>\n",
       "      <td>정사이즈예요</td>\n",
       "      <td>보통이에요</td>\n",
       "      <td>화면과 비슷해요</td>\n",
       "      <td>0</td>\n",
       "      <td>0</td>\n",
       "    </tr>\n",
       "    <tr>\n",
       "      <th>282</th>\n",
       "      <td>니트/스웨터</td>\n",
       "      <td>니어</td>\n",
       "      <td>[평점4.8/인증핏] 폴드 꽈배기 U넥/라운드/브이넥 3가지 타입 크롭 반팔 니트</td>\n",
       "      <td>핑크 완전 땔긔우유 색이에요 ㅠㅠ 넘 예뻐요옹 제가 팔뚝살이 있는 편인데 커버 완전...</td>\n",
       "      <td>2022-09-02</td>\n",
       "      <td>정사이즈예요</td>\n",
       "      <td>아주 만족해요</td>\n",
       "      <td>화면과 비슷해요</td>\n",
       "      <td>0</td>\n",
       "      <td>0</td>\n",
       "    </tr>\n",
       "  </tbody>\n",
       "</table>\n",
       "<p>2599 rows × 10 columns</p>\n",
       "</div>"
      ],
      "text/plain": [
       "        중분류     브랜드                                              상품명  \\\n",
       "15   니트/스웨터      니어  [평점4.7/4,000개리뷰] 캐시미어 캐론 꽈배기 세미 크롭 U넥/브이넥 이너 니트   \n",
       "3        셔츠    데일리쥬            [2만장판매/MADE] 휴버트 오버핏 코튼 셔츠 - 10 color   \n",
       "44   니트/스웨터  1015마켓                           [#자체제작#5만장완판]셀라비 크롭 니트   \n",
       "782  니트/스웨터    베이델리                           [울함유/퀄보장]후끈 투웨이 울 니트집업   \n",
       "11   니트/스웨터      니어  [평점4.7/4,000개리뷰] 캐시미어 캐론 꽈배기 세미 크롭 U넥/브이넥 이너 니트   \n",
       "..      ...     ...                                              ...   \n",
       "896     티셔츠    데일리쥬               [1만2천장판매] 코헬 베이직 폴라 티셔츠 - 12 color   \n",
       "895     티셔츠    데일리쥬               [1만2천장판매] 코헬 베이직 폴라 티셔츠 - 12 color   \n",
       "894     티셔츠    데일리쥬               [1만2천장판매] 코헬 베이직 폴라 티셔츠 - 12 color   \n",
       "893     티셔츠    데일리쥬               [1만2천장판매] 코헬 베이직 폴라 티셔츠 - 12 color   \n",
       "282  니트/스웨터      니어    [평점4.8/인증핏] 폴드 꽈배기 U넥/라운드/브이넥 3가지 타입 크롭 반팔 니트   \n",
       "\n",
       "                                                    리뷰          날짜  사이즈_평가  \\\n",
       "15   그림보다는 채도가 있고 사진보다는 덜합니다 명도 낮은 딱 정석 네이비! 생각하시면 ...  2022-01-05  정사이즈예요   \n",
       "3    제대로 나온 사진은 없는데 아우터로 힙한 느낌 내기 딱 좋아요 ! 바닷가 놀러갈 때...  2022-07-08  정사이즈예요   \n",
       "44   후기에서 다들 웜톤이랑 잘맞는 예쁜 베이비핑크라고 해서 그 말 믿고 시켰는데……… ...  2023-01-28  정사이즈예요   \n",
       "782  오배송으로 미안하다고 소소한 사은품 이러면서 보내온게 ㅋㅋ?? 구멍 빵꾸 개 많이 ...  2021-11-17  정사이즈예요   \n",
       "11   컬러 미친 남자친구 딱대 크리스마스 레드콩주간다\\n좋냐? 좋냐구 ㅋㅋ 야 야 아 벌...  2022-12-19  정사이즈예요   \n",
       "..                                                 ...         ...     ...   \n",
       "896  니트 후드 안에 이너로 입었는데 따뜻하고 좋았어요! 다만 한 번 빨고 나니까 팔 길...  2023-02-13  정사이즈예요   \n",
       "895  생각 보다 얇아서 안에 비침도 좀 있어요\\n카라 부분은 약간 조이는 감이 있어서 한...  2023-02-17     작아요   \n",
       "894  엄청 쫀쫀한 핏이라서 블랙도 구매했어용 겨울 시작 됐을때 다시 재구매할껄 그랬어요ㅠ...  2023-02-27  정사이즈예요   \n",
       "893  결혼식때 입고 가려고 샀는데요. 소재도 부드럽고 무난해서 어디든 다 어울립니다! 다...  2023-03-07  정사이즈예요   \n",
       "282  핑크 완전 땔긔우유 색이에요 ㅠㅠ 넘 예뻐요옹 제가 팔뚝살이 있는 편인데 커버 완전...  2022-09-02  정사이즈예요   \n",
       "\n",
       "      퀄리티_평가     색감_평가  구매욕상승  궁금증해소  \n",
       "15     보통이에요  화면과 비슷해요   1535      3  \n",
       "3    아주 만족해요  화면과 비슷해요   1081      0  \n",
       "44     보통이에요  화면과 비슷해요    703     37  \n",
       "782    보통이에요  화면과 비슷해요    218      0  \n",
       "11   아주 만족해요  화면과 비슷해요    201      0  \n",
       "..       ...       ...    ...    ...  \n",
       "896    보통이에요  화면과 비슷해요      0      0  \n",
       "895    보통이에요  화면과 비슷해요      0      0  \n",
       "894    보통이에요  화면과 비슷해요      0      0  \n",
       "893    보통이에요  화면과 비슷해요      0      0  \n",
       "282  아주 만족해요  화면과 비슷해요      0      0  \n",
       "\n",
       "[2599 rows x 10 columns]"
      ]
     },
     "execution_count": 5,
     "metadata": {},
     "output_type": "execute_result"
    }
   ],
   "source": [
    "data.sort_values(by=['구매욕상승'],ascending=False)"
   ]
  },
  {
   "cell_type": "code",
   "execution_count": 6,
   "metadata": {},
   "outputs": [
    {
     "data": {
      "text/html": [
       "<div>\n",
       "<style scoped>\n",
       "    .dataframe tbody tr th:only-of-type {\n",
       "        vertical-align: middle;\n",
       "    }\n",
       "\n",
       "    .dataframe tbody tr th {\n",
       "        vertical-align: top;\n",
       "    }\n",
       "\n",
       "    .dataframe thead th {\n",
       "        text-align: right;\n",
       "    }\n",
       "</style>\n",
       "<table border=\"1\" class=\"dataframe\">\n",
       "  <thead>\n",
       "    <tr style=\"text-align: right;\">\n",
       "      <th></th>\n",
       "      <th>중분류</th>\n",
       "      <th>브랜드</th>\n",
       "      <th>상품명</th>\n",
       "      <th>리뷰</th>\n",
       "      <th>날짜</th>\n",
       "      <th>사이즈_평가</th>\n",
       "      <th>퀄리티_평가</th>\n",
       "      <th>색감_평가</th>\n",
       "      <th>구매욕상승</th>\n",
       "      <th>궁금증해소</th>\n",
       "    </tr>\n",
       "  </thead>\n",
       "  <tbody>\n",
       "    <tr>\n",
       "      <th>44</th>\n",
       "      <td>니트/스웨터</td>\n",
       "      <td>1015마켓</td>\n",
       "      <td>[#자체제작#5만장완판]셀라비 크롭 니트</td>\n",
       "      <td>후기에서 다들 웜톤이랑 잘맞는 예쁜 베이비핑크라고 해서 그 말 믿고 시켰는데……… ...</td>\n",
       "      <td>2023-01-28</td>\n",
       "      <td>정사이즈예요</td>\n",
       "      <td>보통이에요</td>\n",
       "      <td>화면과 비슷해요</td>\n",
       "      <td>703</td>\n",
       "      <td>37</td>\n",
       "    </tr>\n",
       "    <tr>\n",
       "      <th>1</th>\n",
       "      <td>니트/스웨터</td>\n",
       "      <td>1015마켓</td>\n",
       "      <td>[#자체제작#5만장완판]셀라비 크롭 니트</td>\n",
       "      <td>엄청가성비좋아요~~!! 탄탄합니다.\\n20대보다는 30대 크롭니트느낌입니다.\\n넥라...</td>\n",
       "      <td>2023-12-07</td>\n",
       "      <td>정사이즈예요</td>\n",
       "      <td>아주 만족해요</td>\n",
       "      <td>화면과 비슷해요</td>\n",
       "      <td>2</td>\n",
       "      <td>16</td>\n",
       "    </tr>\n",
       "    <tr>\n",
       "      <th>47</th>\n",
       "      <td>니트/스웨터</td>\n",
       "      <td>1015마켓</td>\n",
       "      <td>[#자체제작#5만장완판]셀라비 크롭 니트</td>\n",
       "      <td>12.11 주문 - 12.12 발송 - 12.13 배송완료\\n색상 포함해서 옷 생긴...</td>\n",
       "      <td>2023-01-15</td>\n",
       "      <td>정사이즈예요</td>\n",
       "      <td>보통이에요</td>\n",
       "      <td>화면과 비슷해요</td>\n",
       "      <td>98</td>\n",
       "      <td>14</td>\n",
       "    </tr>\n",
       "    <tr>\n",
       "      <th>46</th>\n",
       "      <td>니트/스웨터</td>\n",
       "      <td>1015마켓</td>\n",
       "      <td>[#자체제작#5만장완판]셀라비 크롭 니트</td>\n",
       "      <td>여러분 이거 사지마세요. 저만 입을거임.\\n\\n아니 어떻게 이렇게 완벽하게 어울릴 ...</td>\n",
       "      <td>2023-01-16</td>\n",
       "      <td>정사이즈예요</td>\n",
       "      <td>아주 만족해요</td>\n",
       "      <td>화면과 비슷해요</td>\n",
       "      <td>158</td>\n",
       "      <td>10</td>\n",
       "    </tr>\n",
       "    <tr>\n",
       "      <th>692</th>\n",
       "      <td>니트/스웨터</td>\n",
       "      <td>베이델리</td>\n",
       "      <td>[울함유/퀄보장]후끈 투웨이 울 니트집업</td>\n",
       "      <td>개인적으로 너무 너무 맘에 들어요~ 보드러운 재질이고 지퍼도 부드럽고 특히 팔부분이...</td>\n",
       "      <td>2023-11-21</td>\n",
       "      <td>정사이즈예요</td>\n",
       "      <td>아주 만족해요</td>\n",
       "      <td>화면과 비슷해요</td>\n",
       "      <td>3</td>\n",
       "      <td>10</td>\n",
       "    </tr>\n",
       "    <tr>\n",
       "      <th>...</th>\n",
       "      <td>...</td>\n",
       "      <td>...</td>\n",
       "      <td>...</td>\n",
       "      <td>...</td>\n",
       "      <td>...</td>\n",
       "      <td>...</td>\n",
       "      <td>...</td>\n",
       "      <td>...</td>\n",
       "      <td>...</td>\n",
       "      <td>...</td>\n",
       "    </tr>\n",
       "    <tr>\n",
       "      <th>763</th>\n",
       "      <td>티셔츠</td>\n",
       "      <td>데일리쥬</td>\n",
       "      <td>[1만2천장판매] 코헬 베이직 폴라 티셔츠 - 12 color</td>\n",
       "      <td>얇은 옷이지만 안감때문에 따뜻합니다 그런데 신축성이 살짝 더 있았다면 좋았을 거 같...</td>\n",
       "      <td>2023-12-22</td>\n",
       "      <td>NaN</td>\n",
       "      <td>NaN</td>\n",
       "      <td>NaN</td>\n",
       "      <td>0</td>\n",
       "      <td>0</td>\n",
       "    </tr>\n",
       "    <tr>\n",
       "      <th>764</th>\n",
       "      <td>티셔츠</td>\n",
       "      <td>데일리쥬</td>\n",
       "      <td>[1만2천장판매] 코헬 베이직 폴라 티셔츠 - 12 color</td>\n",
       "      <td>전에쓰던거 너무 늘어나서 새거 샀는데 넘 좋아요 재질도 다른 브랜드랑 같은 가격은 ...</td>\n",
       "      <td>2023-12-08</td>\n",
       "      <td>정사이즈예요</td>\n",
       "      <td>아주 만족해요</td>\n",
       "      <td>화면과 비슷해요</td>\n",
       "      <td>0</td>\n",
       "      <td>0</td>\n",
       "    </tr>\n",
       "    <tr>\n",
       "      <th>765</th>\n",
       "      <td>티셔츠</td>\n",
       "      <td>데일리쥬</td>\n",
       "      <td>[1만2천장판매] 코헬 베이직 폴라 티셔츠 - 12 color</td>\n",
       "      <td>통통 66에게 작아요... 답답한 느낌이에요 ㅠ 다른 옷과 비교해도 애기옷 느낌이 ...</td>\n",
       "      <td>2023-12-05</td>\n",
       "      <td>작아요</td>\n",
       "      <td>보통이에요</td>\n",
       "      <td>화면과 비슷해요</td>\n",
       "      <td>0</td>\n",
       "      <td>0</td>\n",
       "    </tr>\n",
       "    <tr>\n",
       "      <th>766</th>\n",
       "      <td>티셔츠</td>\n",
       "      <td>데일리쥬</td>\n",
       "      <td>[1만2천장판매] 코헬 베이직 폴라 티셔츠 - 12 color</td>\n",
       "      <td>급하게 사서 잘 입었습니다\\n얇지만 안쪽이 기모 재질이었어요 \\n흰색이라 비침은 감...</td>\n",
       "      <td>2023-11-30</td>\n",
       "      <td>작아요</td>\n",
       "      <td>보통이에요</td>\n",
       "      <td>화면과 비슷해요</td>\n",
       "      <td>0</td>\n",
       "      <td>0</td>\n",
       "    </tr>\n",
       "    <tr>\n",
       "      <th>282</th>\n",
       "      <td>니트/스웨터</td>\n",
       "      <td>니어</td>\n",
       "      <td>[평점4.8/인증핏] 폴드 꽈배기 U넥/라운드/브이넥 3가지 타입 크롭 반팔 니트</td>\n",
       "      <td>핑크 완전 땔긔우유 색이에요 ㅠㅠ 넘 예뻐요옹 제가 팔뚝살이 있는 편인데 커버 완전...</td>\n",
       "      <td>2022-09-02</td>\n",
       "      <td>정사이즈예요</td>\n",
       "      <td>아주 만족해요</td>\n",
       "      <td>화면과 비슷해요</td>\n",
       "      <td>0</td>\n",
       "      <td>0</td>\n",
       "    </tr>\n",
       "  </tbody>\n",
       "</table>\n",
       "<p>2599 rows × 10 columns</p>\n",
       "</div>"
      ],
      "text/plain": [
       "        중분류     브랜드                                            상품명  \\\n",
       "44   니트/스웨터  1015마켓                         [#자체제작#5만장완판]셀라비 크롭 니트   \n",
       "1    니트/스웨터  1015마켓                         [#자체제작#5만장완판]셀라비 크롭 니트   \n",
       "47   니트/스웨터  1015마켓                         [#자체제작#5만장완판]셀라비 크롭 니트   \n",
       "46   니트/스웨터  1015마켓                         [#자체제작#5만장완판]셀라비 크롭 니트   \n",
       "692  니트/스웨터    베이델리                         [울함유/퀄보장]후끈 투웨이 울 니트집업   \n",
       "..      ...     ...                                            ...   \n",
       "763     티셔츠    데일리쥬             [1만2천장판매] 코헬 베이직 폴라 티셔츠 - 12 color   \n",
       "764     티셔츠    데일리쥬             [1만2천장판매] 코헬 베이직 폴라 티셔츠 - 12 color   \n",
       "765     티셔츠    데일리쥬             [1만2천장판매] 코헬 베이직 폴라 티셔츠 - 12 color   \n",
       "766     티셔츠    데일리쥬             [1만2천장판매] 코헬 베이직 폴라 티셔츠 - 12 color   \n",
       "282  니트/스웨터      니어  [평점4.8/인증핏] 폴드 꽈배기 U넥/라운드/브이넥 3가지 타입 크롭 반팔 니트   \n",
       "\n",
       "                                                    리뷰          날짜  사이즈_평가  \\\n",
       "44   후기에서 다들 웜톤이랑 잘맞는 예쁜 베이비핑크라고 해서 그 말 믿고 시켰는데……… ...  2023-01-28  정사이즈예요   \n",
       "1    엄청가성비좋아요~~!! 탄탄합니다.\\n20대보다는 30대 크롭니트느낌입니다.\\n넥라...  2023-12-07  정사이즈예요   \n",
       "47   12.11 주문 - 12.12 발송 - 12.13 배송완료\\n색상 포함해서 옷 생긴...  2023-01-15  정사이즈예요   \n",
       "46   여러분 이거 사지마세요. 저만 입을거임.\\n\\n아니 어떻게 이렇게 완벽하게 어울릴 ...  2023-01-16  정사이즈예요   \n",
       "692  개인적으로 너무 너무 맘에 들어요~ 보드러운 재질이고 지퍼도 부드럽고 특히 팔부분이...  2023-11-21  정사이즈예요   \n",
       "..                                                 ...         ...     ...   \n",
       "763  얇은 옷이지만 안감때문에 따뜻합니다 그런데 신축성이 살짝 더 있았다면 좋았을 거 같...  2023-12-22     NaN   \n",
       "764  전에쓰던거 너무 늘어나서 새거 샀는데 넘 좋아요 재질도 다른 브랜드랑 같은 가격은 ...  2023-12-08  정사이즈예요   \n",
       "765  통통 66에게 작아요... 답답한 느낌이에요 ㅠ 다른 옷과 비교해도 애기옷 느낌이 ...  2023-12-05     작아요   \n",
       "766  급하게 사서 잘 입었습니다\\n얇지만 안쪽이 기모 재질이었어요 \\n흰색이라 비침은 감...  2023-11-30     작아요   \n",
       "282  핑크 완전 땔긔우유 색이에요 ㅠㅠ 넘 예뻐요옹 제가 팔뚝살이 있는 편인데 커버 완전...  2022-09-02  정사이즈예요   \n",
       "\n",
       "      퀄리티_평가     색감_평가  구매욕상승  궁금증해소  \n",
       "44     보통이에요  화면과 비슷해요    703     37  \n",
       "1    아주 만족해요  화면과 비슷해요      2     16  \n",
       "47     보통이에요  화면과 비슷해요     98     14  \n",
       "46   아주 만족해요  화면과 비슷해요    158     10  \n",
       "692  아주 만족해요  화면과 비슷해요      3     10  \n",
       "..       ...       ...    ...    ...  \n",
       "763      NaN       NaN      0      0  \n",
       "764  아주 만족해요  화면과 비슷해요      0      0  \n",
       "765    보통이에요  화면과 비슷해요      0      0  \n",
       "766    보통이에요  화면과 비슷해요      0      0  \n",
       "282  아주 만족해요  화면과 비슷해요      0      0  \n",
       "\n",
       "[2599 rows x 10 columns]"
      ]
     },
     "execution_count": 6,
     "metadata": {},
     "output_type": "execute_result"
    }
   ],
   "source": [
    "data.sort_values(by=['궁금증해소'],ascending=False)"
   ]
  },
  {
   "cell_type": "code",
   "execution_count": 7,
   "metadata": {},
   "outputs": [
    {
     "data": {
      "text/plain": [
       "'후기에서 다들 웜톤이랑 잘맞는 예쁜 베이비핑크라고 해서 그 말 믿고 시켰는데……… 완전 쿨한 핑크색이에요……… 아니면 핑크색 상품만 색이 변경됐나여 ㅜ 병원 유니폼 가디건이랑 완전 똑같은 촌스러운 핑크색이여서 보자마자 절망했어요……ㅋㅋㅋㅜㅜㅜ\\n이걸 어디에 어떻게 코디해도 촌스러울거같아요 제가 진짜 웜톤이라 ㅜㅜ \\n\\n웜톤 베이비 핑크색이랑 비교하시라고 사진 첨부합니당'"
      ]
     },
     "execution_count": 7,
     "metadata": {},
     "output_type": "execute_result"
    }
   ],
   "source": [
    "T_shirt_1015.sort_values(by=['궁금증해소'],ascending=False)[:3]['리뷰'].reset_index(drop=True)[0]"
   ]
  },
  {
   "cell_type": "code",
   "execution_count": 8,
   "metadata": {},
   "outputs": [
    {
     "data": {
      "text/plain": [
       "'엄청가성비좋아요~~!! 탄탄합니다.\\n20대보다는 30대 크롭니트느낌입니다.\\n넥라인은 좀. .그렇긴한데 목도리하면 안보이고 생각했던부분이라 괜찮아요.\\n가격이깡패! 이가격에 이퀄리티 없을거같아요!'"
      ]
     },
     "execution_count": 8,
     "metadata": {},
     "output_type": "execute_result"
    }
   ],
   "source": [
    "T_shirt_1015.sort_values(by=['궁금증해소'],ascending=False)[:3]['리뷰'].reset_index(drop=True)[1]"
   ]
  },
  {
   "cell_type": "code",
   "execution_count": 9,
   "metadata": {},
   "outputs": [
    {
     "data": {
      "text/plain": [
       "'12.11 주문 - 12.12 발송 - 12.13 배송완료\\n색상 포함해서 옷 생긴 건 화면이랑 똑같아요.\\n부드러운 크림색 예쁘고 길이도 크롭으로 좋은데, 보풀이 잘 일어나는 편인 것 같슴다. 사진에 거뭇한 건 검은색 털 달린 아우터를 입어서 그렇고, 팔~겨드랑이 쪽 보풀 참고해주세요. 4번 정도 입은 상태에서 찍은 사진이에요.'"
      ]
     },
     "execution_count": 9,
     "metadata": {},
     "output_type": "execute_result"
    }
   ],
   "source": [
    "T_shirt_1015.sort_values(by=['궁금증해소'],ascending=False)[:3]['리뷰'].reset_index(drop=True)[2]"
   ]
  },
  {
   "cell_type": "code",
   "execution_count": 10,
   "metadata": {},
   "outputs": [
    {
     "data": {
      "text/plain": [
       "'목폴라티가 필요해서 구매했는데 직진배송이라 빨라서 좋았어요. 딱 붙는 옷이고 퀄리티는 그냥그래요 안감 기모가 얇아요 기본템으로 잘 입을 것 같아요.'"
      ]
     },
     "execution_count": 10,
     "metadata": {},
     "output_type": "execute_result"
    }
   ],
   "source": [
    "T_shirt_daily.sort_values(by=['궁금증해소'],ascending=False)[:3]['리뷰'].reset_index(drop=True)[0]"
   ]
  },
  {
   "cell_type": "code",
   "execution_count": 11,
   "metadata": {},
   "outputs": [
    {
     "data": {
      "text/plain": [
       "'- 차콜 기모 구매했었는데 잘 입고 아이보리 기모 주문\\n- 161에 57키로 기준 답답하지 않게 핏됨\\n- 비침이 약간 있음. 속옷을 스킨색으로 입거나 나시 입으면 ㄱㅊ\\n- 이너가 필요해서  적당히 핏되는 사이즈 원했는데 딱이에요 가볍게 입었는데 은근 …더보기'"
      ]
     },
     "execution_count": 11,
     "metadata": {},
     "output_type": "execute_result"
    }
   ],
   "source": [
    "T_shirt_daily.sort_values(by=['궁금증해소'],ascending=False)[:3]['리뷰'].reset_index(drop=True)[1]"
   ]
  },
  {
   "cell_type": "code",
   "execution_count": 12,
   "metadata": {},
   "outputs": [
    {
     "data": {
      "text/plain": [
       "'키 170 66사이즈 어깨넓은편\\n기본템으로 베이지와 같이 2개 구매했습니당\\n사진과같이 어깨가 모자랍니당 ..😭\\n참고하세요 색상은 베이지 완전 추천!! \\n누리끼리 아니고 커피색같은 예쁜 베이지입니다!!'"
      ]
     },
     "execution_count": 12,
     "metadata": {},
     "output_type": "execute_result"
    }
   ],
   "source": [
    "T_shirt_daily.sort_values(by=['궁금증해소'],ascending=False)[:3]['리뷰'].reset_index(drop=True)[2]"
   ]
  },
  {
   "cell_type": "code",
   "execution_count": 13,
   "metadata": {},
   "outputs": [
    {
     "data": {
      "text/plain": [
       "'개인적으로 너무 너무 맘에 들어요~ 보드러운 재질이고 지퍼도 부드럽고 특히 팔부분이 쫀쫀해서 좋네요 :) 와이드팬츠랑 코디해서 입었는데 겉에 루즈핏 아우터를 함께 입어도 좋은것 같습니당~ 펑퍼짐하지 않은 니트집업을 찾고 있었는데 가격도 디자인도 딱입니당'"
      ]
     },
     "execution_count": 13,
     "metadata": {},
     "output_type": "execute_result"
    }
   ],
   "source": [
    "bla_shirt_bay.sort_values(by=['궁금증해소'],ascending=False)[:3]['리뷰'].reset_index(drop=True)[0]"
   ]
  },
  {
   "cell_type": "code",
   "execution_count": 15,
   "metadata": {},
   "outputs": [
    {
     "data": {
      "text/plain": [
       "array(['1015마켓', '데일리쥬', '베이델리', '니어'], dtype=object)"
      ]
     },
     "execution_count": 15,
     "metadata": {},
     "output_type": "execute_result"
    }
   ],
   "source": [
    " data['브랜드'].unique()"
   ]
  },
  {
   "cell_type": "code",
   "execution_count": 14,
   "metadata": {},
   "outputs": [],
   "source": [
    "toplist=[]\n",
    "for brand in data['브랜드'].unique():\n",
    "    \n",
    "    toplist.append(data[data['브랜드']==brand].sort_values(by=['궁금증해소'],ascending=False)[:3]['리뷰'].reset_index(drop=True))"
   ]
  },
  {
   "cell_type": "code",
   "execution_count": 39,
   "metadata": {},
   "outputs": [
    {
     "name": "stdout",
     "output_type": "stream",
     "text": [
      "165.0\n"
     ]
    }
   ],
   "source": [
    "total_length = sum(len(review) for review in toplist[0])\n",
    "print(total_length/3)\n"
   ]
  },
  {
   "cell_type": "code",
   "execution_count": 40,
   "metadata": {},
   "outputs": [
    {
     "name": "stdout",
     "output_type": "stream",
     "text": [
      "112.33333333333333\n"
     ]
    }
   ],
   "source": [
    "total_length = sum(len(review) for review in toplist[1])\n",
    "print(total_length/3)\n"
   ]
  },
  {
   "cell_type": "code",
   "execution_count": 41,
   "metadata": {},
   "outputs": [
    {
     "name": "stdout",
     "output_type": "stream",
     "text": [
      "132.66666666666666\n"
     ]
    }
   ],
   "source": [
    "total_length = sum(len(review) for review in toplist[2])\n",
    "print(total_length/3)\n"
   ]
  },
  {
   "cell_type": "code",
   "execution_count": 42,
   "metadata": {},
   "outputs": [
    {
     "name": "stdout",
     "output_type": "stream",
     "text": [
      "127.33333333333333\n"
     ]
    }
   ],
   "source": [
    "total_length = sum(len(review) for review in toplist[3])\n",
    "print(total_length/3)\n"
   ]
  },
  {
   "cell_type": "code",
   "execution_count": 43,
   "metadata": {},
   "outputs": [],
   "source": [
    "toplist=[]\n",
    "for brand in data['브랜드'].unique():\n",
    "    \n",
    "    toplist.append(data[data['브랜드']==brand].sort_values(by=['구매욕상승'],ascending=False)[:3]['리뷰'].reset_index(drop=True))"
   ]
  },
  {
   "cell_type": "code",
   "execution_count": 44,
   "metadata": {},
   "outputs": [
    {
     "name": "stdout",
     "output_type": "stream",
     "text": [
      "171.33333333333334\n"
     ]
    }
   ],
   "source": [
    "total_length = sum(len(review) for review in toplist[0])\n",
    "print(total_length/3)\n"
   ]
  },
  {
   "cell_type": "code",
   "execution_count": 45,
   "metadata": {},
   "outputs": [
    {
     "name": "stdout",
     "output_type": "stream",
     "text": [
      "212.33333333333334\n"
     ]
    }
   ],
   "source": [
    "total_length = sum(len(review) for review in toplist[1])\n",
    "print(total_length/3)\n"
   ]
  },
  {
   "cell_type": "code",
   "execution_count": 46,
   "metadata": {},
   "outputs": [
    {
     "name": "stdout",
     "output_type": "stream",
     "text": [
      "204.33333333333334\n"
     ]
    }
   ],
   "source": [
    "total_length = sum(len(review) for review in toplist[2])\n",
    "print(total_length/3)\n"
   ]
  },
  {
   "cell_type": "code",
   "execution_count": 47,
   "metadata": {},
   "outputs": [
    {
     "name": "stdout",
     "output_type": "stream",
     "text": [
      "414.0\n"
     ]
    }
   ],
   "source": [
    "total_length = sum(len(review) for review in toplist[3])\n",
    "print(total_length/3)\n"
   ]
  },
  {
   "cell_type": "code",
   "execution_count": 16,
   "metadata": {},
   "outputs": [
    {
     "data": {
      "text/plain": [
       "250"
      ]
     },
     "execution_count": 16,
     "metadata": {},
     "output_type": "execute_result"
    }
   ],
   "source": [
    "(171+212+204+414)//4"
   ]
  },
  {
   "cell_type": "code",
   "execution_count": null,
   "metadata": {},
   "outputs": [],
   "source": []
  }
 ],
 "metadata": {
  "kernelspec": {
   "display_name": "Python 3",
   "language": "python",
   "name": "python3"
  },
  "language_info": {
   "codemirror_mode": {
    "name": "ipython",
    "version": 3
   },
   "file_extension": ".py",
   "mimetype": "text/x-python",
   "name": "python",
   "nbconvert_exporter": "python",
   "pygments_lexer": "ipython3",
   "version": "3.11.5"
  }
 },
 "nbformat": 4,
 "nbformat_minor": 2
}
