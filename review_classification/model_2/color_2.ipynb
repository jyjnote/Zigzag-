{
 "cells": [
  {
   "cell_type": "markdown",
   "id": "10883f54-7d52-4aad-8375-a834d829886f",
   "metadata": {},
   "source": [
    "# 학습데이터, 테스트데이터 만들기"
   ]
  },
  {
   "cell_type": "code",
   "execution_count": 1,
   "id": "4df8b02f-36e8-475e-ad7f-264387602403",
   "metadata": {},
   "outputs": [
    {
     "data": {
      "text/plain": [
       "'cuda'"
      ]
     },
     "execution_count": 1,
     "metadata": {},
     "output_type": "execute_result"
    }
   ],
   "source": [
    "import pandas as pd\n",
    "import numpy as np\n",
    "import torch\n",
    "from tqdm.auto import tqdm\n",
    "import random\n",
    "import os\n",
    "\n",
    "def reset_seeds(seed):\n",
    "    random.seed(seed)\n",
    "    os.environ['PYTHONHASHSEED'] = str(seed)\n",
    "    np.random.seed(seed)\n",
    "    torch.manual_seed(seed)\n",
    "    torch.cuda.manual_seed(seed)\n",
    "    torch.backends.cudnn.deterministic = True\n",
    "\n",
    "device = 'cuda' if torch.cuda.is_available() else 'cpu'\n",
    "device"
   ]
  },
  {
   "cell_type": "code",
   "execution_count": 2,
   "id": "a80b0259-0c92-4d7b-a22a-1e58ab792f32",
   "metadata": {},
   "outputs": [
    {
     "data": {
      "text/plain": [
       "((5754, 8), (1439, 8))"
      ]
     },
     "execution_count": 2,
     "metadata": {},
     "output_type": "execute_result"
    }
   ],
   "source": [
    "train_ft = pd.read_excel('train_tmp.xlsx')\n",
    "test_ft = pd.read_excel('test_tmp.xlsx')\n",
    "\n",
    "train_ft.shape,test_ft.shape"
   ]
  },
  {
   "cell_type": "code",
   "execution_count": 3,
   "id": "47e2c5ee-ba7f-44af-bfb4-623535953c21",
   "metadata": {},
   "outputs": [],
   "source": [
    "train_ft = pd.concat([train_ft,test_ft])"
   ]
  },
  {
   "cell_type": "code",
   "execution_count": 4,
   "id": "0da6a9da-cbb5-48b4-80d4-3b86e5da4bd9",
   "metadata": {},
   "outputs": [
    {
     "data": {
      "text/plain": [
       "(1997, 2)"
      ]
     },
     "execution_count": 4,
     "metadata": {},
     "output_type": "execute_result"
    }
   ],
   "source": [
    "train_color = train_ft.loc[:,['리뷰','색감_긍부정']].copy()\n",
    "train_color = train_color[train_color['색감_긍부정'].isin([-1,1])]\n",
    "\n",
    "train_color.shape"
   ]
  },
  {
   "cell_type": "code",
   "execution_count": 5,
   "id": "fd7884ce-b05b-41a1-a160-2486ecc2811f",
   "metadata": {},
   "outputs": [
    {
     "data": {
      "text/plain": [
       "색감_긍부정\n",
       " 1    1576\n",
       "-1     421\n",
       "Name: count, dtype: int64"
      ]
     },
     "execution_count": 5,
     "metadata": {},
     "output_type": "execute_result"
    }
   ],
   "source": [
    "train_color['색감_긍부정'].value_counts() \n",
    "# 1의 비율이 훨씬 더 높은 수준임을 알 수 있음 "
   ]
  },
  {
   "cell_type": "code",
   "execution_count": 6,
   "id": "b59d6fdd-ed18-4ee2-bb42-b9193bb1da54",
   "metadata": {},
   "outputs": [
    {
     "data": {
      "text/plain": [
       "Index(['리뷰', '색감_긍부정'], dtype='object')"
      ]
     },
     "execution_count": 6,
     "metadata": {},
     "output_type": "execute_result"
    }
   ],
   "source": [
    "train_color.columns"
   ]
  },
  {
   "cell_type": "code",
   "execution_count": 7,
   "id": "6bbaba1c-a127-44af-98a1-0457a0713124",
   "metadata": {},
   "outputs": [
    {
     "data": {
      "text/plain": [
       "(1997,)"
      ]
     },
     "execution_count": 7,
     "metadata": {},
     "output_type": "execute_result"
    }
   ],
   "source": [
    "train_arr = train_color['리뷰'].to_numpy()\n",
    "\n",
    "train_arr.shape"
   ]
  },
  {
   "cell_type": "code",
   "execution_count": 8,
   "id": "ab3046ba-6766-49a6-a28f-7d0f0a82e5ff",
   "metadata": {},
   "outputs": [
    {
     "data": {
      "text/plain": [
       "(1997, 1)"
      ]
     },
     "execution_count": 8,
     "metadata": {},
     "output_type": "execute_result"
    }
   ],
   "source": [
    "target = train_color['색감_긍부정'].to_numpy().reshape(-1,1)\n",
    "target = np.where(target == -1,0,target)\n",
    "target = target.astype('int64')\n",
    "target.shape"
   ]
  },
  {
   "cell_type": "code",
   "execution_count": 9,
   "id": "915f232a-7fe4-4821-9379-326428f7a0ef",
   "metadata": {},
   "outputs": [
    {
     "data": {
      "text/plain": [
       "0.7891837756634953"
      ]
     },
     "execution_count": 9,
     "metadata": {},
     "output_type": "execute_result"
    }
   ],
   "source": [
    "target.mean()"
   ]
  },
  {
   "cell_type": "markdown",
   "id": "52d9d2cd-135d-4ee8-a969-12edf8604133",
   "metadata": {},
   "source": [
    "# 사전학습 모델 선정"
   ]
  },
  {
   "cell_type": "code",
   "execution_count": 10,
   "id": "a8871b24-7df0-4908-a0fb-768b5bb3b71e",
   "metadata": {},
   "outputs": [],
   "source": [
    "model_name = 'kykim/bert-kor-base'"
   ]
  },
  {
   "cell_type": "code",
   "execution_count": 11,
   "id": "59a568ae-c95a-4788-95e7-010eaff17f75",
   "metadata": {},
   "outputs": [],
   "source": [
    "from transformers import AutoTokenizer, AutoModel"
   ]
  },
  {
   "cell_type": "code",
   "execution_count": 12,
   "id": "417aca14-26aa-41a9-984a-9c22968d970b",
   "metadata": {},
   "outputs": [
    {
     "name": "stderr",
     "output_type": "stream",
     "text": [
      "/home/lab01/.local/lib/python3.10/site-packages/torch/_utils.py:776: UserWarning: TypedStorage is deprecated. It will be removed in the future and UntypedStorage will be the only storage class. This should only matter to you if you are using storages directly.  To access UntypedStorage directly, use tensor.untyped_storage() instead of tensor.storage()\n",
      "  return self.fget.__get__(instance, owner)()\n"
     ]
    }
   ],
   "source": [
    "model = AutoModel.from_pretrained(model_name)"
   ]
  },
  {
   "cell_type": "code",
   "execution_count": 13,
   "id": "86d0e46e-4da3-40da-ae4c-cf4b0ca9004e",
   "metadata": {},
   "outputs": [],
   "source": [
    "tokenizer = AutoTokenizer.from_pretrained(model_name)"
   ]
  },
  {
   "cell_type": "markdown",
   "id": "db939111-2a20-46cc-9616-f7d3fccab5bc",
   "metadata": {},
   "source": [
    "# 사전학습모델을 바탕으로 학습 실행"
   ]
  },
  {
   "cell_type": "code",
   "execution_count": 14,
   "id": "9d4710ad-7a64-4a8d-92ce-ed4de07638df",
   "metadata": {},
   "outputs": [],
   "source": [
    "class ReviewDataset(torch.utils.data.Dataset):\n",
    "    def __init__(self, tokenizer, x, y=None):\n",
    "        self.tokenizer = tokenizer\n",
    "        self.x = x\n",
    "        self.y = y\n",
    "    def __len__(self):\n",
    "        return len(self.x)\n",
    "    def __getitem__(self, idx):\n",
    "        item = {}\n",
    "        item[\"x\"] = self.get_tokenizer(self.x[idx])\n",
    "        if self.y is not None:\n",
    "            item[\"y\"] = torch.Tensor(self.y[idx])\n",
    "        return item\n",
    "    def get_tokenizer(self, text):\n",
    "        x = self.tokenizer(text, padding=\"max_length\", truncation=True)\n",
    "        for k, v in x.items():\n",
    "            x[k] = torch.tensor(v)\n",
    "        return x"
   ]
  },
  {
   "cell_type": "code",
   "execution_count": 15,
   "id": "ecbb1fa1-c180-4578-af90-c5869a45f36e",
   "metadata": {},
   "outputs": [
    {
     "data": {
      "text/plain": [
       "{'x': {'input_ids': tensor([[    2, 32393, 14103,  ...,     0,     0,     0],\n",
       "         [    2, 22462,  6096,  ...,     0,     0,     0]]), 'token_type_ids': tensor([[0, 0, 0,  ..., 0, 0, 0],\n",
       "         [0, 0, 0,  ..., 0, 0, 0]]), 'attention_mask': tensor([[1, 1, 1,  ..., 0, 0, 0],\n",
       "         [1, 1, 1,  ..., 0, 0, 0]])},\n",
       " 'y': tensor([[1.],\n",
       "         [1.]])}"
      ]
     },
     "execution_count": 15,
     "metadata": {},
     "output_type": "execute_result"
    }
   ],
   "source": [
    "dt = ReviewDataset(tokenizer, train_arr, target)\n",
    "dl = torch.utils.data.DataLoader(dt, batch_size=2, shuffle=False)\n",
    "batch = next(iter(dl))\n",
    "batch"
   ]
  },
  {
   "cell_type": "code",
   "execution_count": 16,
   "id": "36a09152-069e-4f0d-a006-9af74fe63dff",
   "metadata": {},
   "outputs": [],
   "source": [
    "class Net(torch.nn.Module):\n",
    "    def __init__(self, model_name):\n",
    "        super().__init__()\n",
    "        self.pre_model = AutoModel.from_pretrained(model_name)\n",
    "        self.fc_out = torch.nn.Linear( self.pre_model.config.hidden_size, 1)\n",
    "\n",
    "    def forward(self, x):\n",
    "        x = self.pre_model(**x)\n",
    "        # x[0]: 모든 시점의 히든출력 batch, seq, features\n",
    "        # x[1]: CLS 토큰의 히든출력 batch, features\n",
    "        return self.fc_out(x[1])"
   ]
  },
  {
   "cell_type": "code",
   "execution_count": 17,
   "id": "7a6b0aa7-7019-4528-b5bd-1d4a57771c2c",
   "metadata": {},
   "outputs": [
    {
     "data": {
      "text/plain": [
       "tensor([[0.2194],\n",
       "        [0.4221]], grad_fn=<AddmmBackward0>)"
      ]
     },
     "execution_count": 17,
     "metadata": {},
     "output_type": "execute_result"
    }
   ],
   "source": [
    "model = Net(model_name)\n",
    "model(batch[\"x\"])"
   ]
  },
  {
   "cell_type": "code",
   "execution_count": 18,
   "id": "48c01489-8687-4cc2-83cb-2c731cf32cf3",
   "metadata": {},
   "outputs": [],
   "source": [
    "def train_loop(dataloader, model, loss_fn, optimizer, device):\n",
    "    epoch_loss = 0\n",
    "    model.train() # 학습 모드\n",
    "    for batch in tqdm(dataloader):\n",
    "        pred = model( batch[\"x\"].to(device) )\n",
    "        loss = loss_fn( pred, batch[\"y\"].to(device) )\n",
    "\n",
    "        optimizer.zero_grad()\n",
    "        loss.backward()\n",
    "        optimizer.step()\n",
    "\n",
    "        epoch_loss += loss.item()\n",
    "\n",
    "    epoch_loss /= len(dataloader)\n",
    "    return epoch_loss"
   ]
  },
  {
   "cell_type": "code",
   "execution_count": 19,
   "id": "e16f41cd-315c-468a-a19b-ca3d67220d80",
   "metadata": {},
   "outputs": [],
   "source": [
    "@torch.no_grad()\n",
    "def test_loop(dataloader, model, loss_fn, device):\n",
    "    epoch_loss = 0\n",
    "    pred_list = []\n",
    "    act_func = torch.nn.Sigmoid()\n",
    "    model.eval() # 평가 모드\n",
    "    for batch in tqdm(dataloader):\n",
    "        pred = model( batch[\"x\"].to(device) )\n",
    "        if batch.get(\"y\") is not None:\n",
    "            loss = loss_fn( pred, batch[\"y\"].to(device) )\n",
    "            epoch_loss += loss.item()\n",
    "\n",
    "        pred = act_func(pred) # logit 값을 확률로 변환\n",
    "        pred = pred.to(\"cpu\").numpy() # cpu 이동후 ndarray 로변환\n",
    "        pred_list.append(pred)\n",
    "\n",
    "    epoch_loss /= len(dataloader)\n",
    "    pred = np.concatenate(pred_list)\n",
    "    return epoch_loss, pred"
   ]
  },
  {
   "cell_type": "code",
   "execution_count": 20,
   "id": "40bada32-cc6b-4068-9ec1-be82cf95c4da",
   "metadata": {},
   "outputs": [],
   "source": [
    "from sklearn.model_selection import KFold\n",
    "from sklearn.metrics import accuracy_score\n",
    "from sklearn.metrics import f1_score\n",
    "\n",
    "n_splits = 5\n",
    "cv = KFold(n_splits, shuffle=True, random_state=42)\n",
    "\n",
    "batch_size = 8 # 배치 사이즈\n",
    "loss_fn = torch.nn.BCEWithLogitsLoss() # 손실 객체\n",
    "epochs = 100 # 최대 가능한 에폭수"
   ]
  },
  {
   "cell_type": "code",
   "execution_count": 34,
   "id": "c0dfa5e0-303a-4376-bbbb-1032ce84bbb3",
   "metadata": {},
   "outputs": [
    {
     "data": {
      "application/vnd.jupyter.widget-view+json": {
       "model_id": "e896a0a986ad4254a33b37c865b3a1be",
       "version_major": 2,
       "version_minor": 0
      },
      "text/plain": [
       "  0%|          | 0/1997 [00:00<?, ?it/s]"
      ]
     },
     "metadata": {},
     "output_type": "display_data"
    },
    {
     "data": {
      "application/vnd.jupyter.widget-view+json": {
       "model_id": "720ffc6185db4cc69a321a79ea95f1ca",
       "version_major": 2,
       "version_minor": 0
      },
      "text/plain": [
       "  0%|          | 0/1997 [00:00<?, ?it/s]"
      ]
     },
     "metadata": {},
     "output_type": "display_data"
    },
    {
     "data": {
      "application/vnd.jupyter.widget-view+json": {
       "model_id": "e770b0196c2d4b07a63fc5099c31ae21",
       "version_major": 2,
       "version_minor": 0
      },
      "text/plain": [
       "  0%|          | 0/1997 [00:00<?, ?it/s]"
      ]
     },
     "metadata": {},
     "output_type": "display_data"
    },
    {
     "data": {
      "application/vnd.jupyter.widget-view+json": {
       "model_id": "3118e1e3d5c34ff0bee828c4d82f562d",
       "version_major": 2,
       "version_minor": 0
      },
      "text/plain": [
       "  0%|          | 0/1997 [00:00<?, ?it/s]"
      ]
     },
     "metadata": {},
     "output_type": "display_data"
    },
    {
     "data": {
      "application/vnd.jupyter.widget-view+json": {
       "model_id": "2e794ddf12a0444c856fe30a5e954639",
       "version_major": 2,
       "version_minor": 0
      },
      "text/plain": [
       "  0%|          | 0/1997 [00:00<?, ?it/s]"
      ]
     },
     "metadata": {},
     "output_type": "display_data"
    },
    {
     "data": {
      "application/vnd.jupyter.widget-view+json": {
       "model_id": "cb19b5f06dc5497e999e06285b30af72",
       "version_major": 2,
       "version_minor": 0
      },
      "text/plain": [
       "  0%|          | 0/1997 [00:00<?, ?it/s]"
      ]
     },
     "metadata": {},
     "output_type": "display_data"
    }
   ],
   "source": [
    "reset_seeds(42) \n",
    "\n",
    "# 학습용 데이터로더 객체\n",
    "train_dt = ReviewDataset(tokenizer, train_arr, target)\n",
    "train_dl = torch.utils.data.DataLoader(train_dt, batch_size=1, shuffle=True)\n",
    "\n",
    "# 모델 객체와 옵티마이저 객체 생성\n",
    "model = Net(model_name).to(device)\n",
    "optimizer = torch.optim.Adam( model.parameters(), lr=2e-5 )\n",
    "loss_fn = torch.nn.BCEWithLogitsLoss()\n",
    "\n",
    "# epochs 조정\n",
    "epochs = 6\n",
    "for epoch in range(epochs):\n",
    "    train_loop(train_dl, model, loss_fn, optimizer, device)\n",
    "    \n",
    "torch.save(model.state_dict(), \"color.pth\") # 모델 가중치 저장 "
   ]
  },
  {
   "cell_type": "code",
   "execution_count": 34,
   "id": "5ef545ac-82d8-4603-bf0c-d3fa8e6b00c9",
   "metadata": {
    "scrolled": true
   },
   "outputs": [
    {
     "data": {
      "application/vnd.jupyter.widget-view+json": {
       "model_id": "c28bf89594a843ebafb3f4bb1429adce",
       "version_major": 2,
       "version_minor": 0
      },
      "text/plain": [
       "  0%|          | 0/113 [00:00<?, ?it/s]"
      ]
     },
     "metadata": {},
     "output_type": "display_data"
    },
    {
     "data": {
      "application/vnd.jupyter.widget-view+json": {
       "model_id": "fe4427c58bfe4ebca2757280d91a20ab",
       "version_major": 2,
       "version_minor": 0
      },
      "text/plain": [
       "  0%|          | 0/29 [00:00<?, ?it/s]"
      ]
     },
     "metadata": {},
     "output_type": "display_data"
    },
    {
     "name": "stdout",
     "output_type": "stream",
     "text": [
      "0.4287077569592316 0.2027646996851625 0.8865826538176427\n"
     ]
    },
    {
     "data": {
      "application/vnd.jupyter.widget-view+json": {
       "model_id": "63d4fd7edd024e43a90160cb3d4056d6",
       "version_major": 2,
       "version_minor": 0
      },
      "text/plain": [
       "  0%|          | 0/113 [00:00<?, ?it/s]"
      ]
     },
     "metadata": {},
     "output_type": "display_data"
    },
    {
     "data": {
      "application/vnd.jupyter.widget-view+json": {
       "model_id": "f638e2294784424eacf5df3d50034c31",
       "version_major": 2,
       "version_minor": 0
      },
      "text/plain": [
       "  0%|          | 0/29 [00:00<?, ?it/s]"
      ]
     },
     "metadata": {},
     "output_type": "display_data"
    },
    {
     "name": "stdout",
     "output_type": "stream",
     "text": [
      "0.15976607622331487 0.22979737991659804 0.8506738819685522\n"
     ]
    },
    {
     "data": {
      "application/vnd.jupyter.widget-view+json": {
       "model_id": "aca2127d46ac4ac8b8b73042c4899a40",
       "version_major": 2,
       "version_minor": 0
      },
      "text/plain": [
       "  0%|          | 0/113 [00:00<?, ?it/s]"
      ]
     },
     "metadata": {},
     "output_type": "display_data"
    },
    {
     "data": {
      "application/vnd.jupyter.widget-view+json": {
       "model_id": "03f6d13a3f374beda7bc63ae29a3ebd2",
       "version_major": 2,
       "version_minor": 0
      },
      "text/plain": [
       "  0%|          | 0/29 [00:00<?, ?it/s]"
      ]
     },
     "metadata": {},
     "output_type": "display_data"
    },
    {
     "name": "stdout",
     "output_type": "stream",
     "text": [
      "0.07770253200932875 0.2502327379449431 0.8636363636363635\n"
     ]
    },
    {
     "data": {
      "application/vnd.jupyter.widget-view+json": {
       "model_id": "8e320cc96e254416afdc09e46b6f6c6e",
       "version_major": 2,
       "version_minor": 0
      },
      "text/plain": [
       "  0%|          | 0/113 [00:00<?, ?it/s]"
      ]
     },
     "metadata": {},
     "output_type": "display_data"
    },
    {
     "data": {
      "application/vnd.jupyter.widget-view+json": {
       "model_id": "d191519d44144231bb935847d5067ad5",
       "version_major": 2,
       "version_minor": 0
      },
      "text/plain": [
       "  0%|          | 0/29 [00:00<?, ?it/s]"
      ]
     },
     "metadata": {},
     "output_type": "display_data"
    },
    {
     "name": "stdout",
     "output_type": "stream",
     "text": [
      "0.02733266369781696 0.24696865790435274 0.8808262711864407\n"
     ]
    },
    {
     "data": {
      "application/vnd.jupyter.widget-view+json": {
       "model_id": "2a124125a80746738ab0580c07fa5875",
       "version_major": 2,
       "version_minor": 0
      },
      "text/plain": [
       "  0%|          | 0/113 [00:00<?, ?it/s]"
      ]
     },
     "metadata": {},
     "output_type": "display_data"
    },
    {
     "data": {
      "application/vnd.jupyter.widget-view+json": {
       "model_id": "1cfa7e38b370486383621c625e11b15e",
       "version_major": 2,
       "version_minor": 0
      },
      "text/plain": [
       "  0%|          | 0/29 [00:00<?, ?it/s]"
      ]
     },
     "metadata": {},
     "output_type": "display_data"
    },
    {
     "name": "stdout",
     "output_type": "stream",
     "text": [
      "0.026570844158027487 0.35074146282618285 0.875\n",
      "0번째 폴드 최고 정확도: 0.8865826538176427\n"
     ]
    }
   ],
   "source": [
    "is_holdout = True\n",
    "reset_seeds(42) # 재현을 위해 시드고정\n",
    "best_score_list = []\n",
    "for i, (tri, vai) in enumerate( cv.split(train_arr) ):\n",
    "    # 학습용 데이터로더 객체\n",
    "    train_dt = ReviewDataset(tokenizer, train_arr[tri], target[tri])\n",
    "    train_dl = torch.utils.data.DataLoader(train_dt, batch_size=batch_size, shuffle=True)\n",
    "\n",
    "    # 검증용 데이터로더 객체\n",
    "    valid_dt = ReviewDataset(tokenizer, train_arr[vai], target[vai])\n",
    "    valid_dl = torch.utils.data.DataLoader(valid_dt, batch_size=batch_size, shuffle=False)\n",
    "\n",
    "    # 모델 객체와 옵티마이저 객체 생성\n",
    "    model = Net(model_name).to(device)\n",
    "    optimizer = torch.optim.Adam( model.parameters(), lr=2e-5 )\n",
    "\n",
    "    best_score = 0 # 현재 최고 점수\n",
    "    patience = 0 # 조기 종료 조건을 주기 위한 변수\n",
    "    for epoch in range(epochs):\n",
    "        train_loss = train_loop(train_dl, model, loss_fn, optimizer, device)\n",
    "        valid_loss, pred = test_loop(valid_dl, model, loss_fn, device)\n",
    "\n",
    "        pred = (pred > 0.5).astype(int) # 이진분류 문제에서 클래스 번호 결정\n",
    "        score = f1_score(target[vai], pred,average = 'macro')\n",
    "\n",
    "        print(train_loss, valid_loss, score)\n",
    "        if score > best_score:\n",
    "            best_score = score # 최고 점수 업데이트\n",
    "            patience = 0\n",
    "            torch.save(model.state_dict(), f\"color_{i}.pth\") # 최고 점수 모델 가중치 저장\n",
    "\n",
    "        patience += 1\n",
    "        if patience == 5:\n",
    "            break\n",
    "\n",
    "    print(f\"{i}번째 폴드 최고 정확도: {best_score}\")\n",
    "    best_score_list.append(best_score)\n",
    "\n",
    "    if is_holdout:\n",
    "        break"
   ]
  },
  {
   "cell_type": "markdown",
   "id": "3f7634cd-a0f7-4f49-aafc-fb995423c275",
   "metadata": {},
   "source": [
    "# 테스트 데이터 예측 "
   ]
  },
  {
   "cell_type": "code",
   "execution_count": 22,
   "id": "9533ab50-1f5e-415a-a6d7-7d9a413034b4",
   "metadata": {},
   "outputs": [],
   "source": [
    "test_dt = ReviewDataset(tokenizer,train_arr)\n",
    "test_dl = torch.utils.data.DataLoader(test_dt, batch_size=1, shuffle=False)"
   ]
  },
  {
   "cell_type": "code",
   "execution_count": 24,
   "id": "f5543f53-ff50-4c74-953f-2bfa489810d6",
   "metadata": {},
   "outputs": [
    {
     "name": "stderr",
     "output_type": "stream",
     "text": [
      "/home/lab01/.local/lib/python3.10/site-packages/torch/_utils.py:776: UserWarning: TypedStorage is deprecated. It will be removed in the future and UntypedStorage will be the only storage class. This should only matter to you if you are using storages directly.  To access UntypedStorage directly, use tensor.untyped_storage() instead of tensor.storage()\n",
      "  return self.fget.__get__(instance, owner)()\n"
     ]
    },
    {
     "data": {
      "application/vnd.jupyter.widget-view+json": {
       "model_id": "7f91037ae3064b3f8376b60f1686a204",
       "version_major": 2,
       "version_minor": 0
      },
      "text/plain": [
       "  0%|          | 0/1997 [00:00<?, ?it/s]"
      ]
     },
     "metadata": {},
     "output_type": "display_data"
    }
   ],
   "source": [
    "pred_list = []\n",
    "model = Net(model_name).to(device)\n",
    "state_dict = torch.load('color.pth')\n",
    "model.load_state_dict(state_dict)\n",
    "\n",
    "_, pred = test_loop(test_dl, model, loss_fn, device)\n",
    "\n",
    "pred_list.append(pred)"
   ]
  },
  {
   "cell_type": "code",
   "execution_count": 25,
   "id": "0ae2da7d-1602-419d-baf9-7d6f77a5471e",
   "metadata": {},
   "outputs": [],
   "source": [
    "pred = np.mean(pred_list, axis=0)\n",
    "pred = (pred > 0.5).astype(int)"
   ]
  },
  {
   "cell_type": "code",
   "execution_count": 27,
   "id": "59ceabf7-995b-46c1-9f7c-2d322f0359ed",
   "metadata": {},
   "outputs": [
    {
     "data": {
      "text/plain": [
       "0.7886830245368052"
      ]
     },
     "execution_count": 27,
     "metadata": {},
     "output_type": "execute_result"
    }
   ],
   "source": [
    "# 딱히 문제가 없음을 확인할 수 있는 것이다. \n",
    "pred.mean()"
   ]
  },
  {
   "cell_type": "code",
   "execution_count": null,
   "id": "b8db7ae0-3d2d-4455-9770-f4d7fb64c080",
   "metadata": {},
   "outputs": [],
   "source": [
    "score = f1_score(target_test, pred,average = 'macro')\n",
    "score"
   ]
  }
 ],
 "metadata": {
  "kernelspec": {
   "display_name": "Python 3 (ipykernel)",
   "language": "python",
   "name": "python3"
  },
  "language_info": {
   "codemirror_mode": {
    "name": "ipython",
    "version": 3
   },
   "file_extension": ".py",
   "mimetype": "text/x-python",
   "name": "python",
   "nbconvert_exporter": "python",
   "pygments_lexer": "ipython3",
   "version": "3.10.13"
  }
 },
 "nbformat": 4,
 "nbformat_minor": 5
}
