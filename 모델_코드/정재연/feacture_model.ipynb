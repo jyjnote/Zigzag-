{
 "cells": [
  {
   "cell_type": "code",
   "execution_count": 2,
   "metadata": {},
   "outputs": [
    {
     "data": {
      "text/html": [
       "<div>\n",
       "<style scoped>\n",
       "    .dataframe tbody tr th:only-of-type {\n",
       "        vertical-align: middle;\n",
       "    }\n",
       "\n",
       "    .dataframe tbody tr th {\n",
       "        vertical-align: top;\n",
       "    }\n",
       "\n",
       "    .dataframe thead th {\n",
       "        text-align: right;\n",
       "    }\n",
       "</style>\n",
       "<table border=\"1\" class=\"dataframe\">\n",
       "  <thead>\n",
       "    <tr style=\"text-align: right;\">\n",
       "      <th></th>\n",
       "      <th>중분류</th>\n",
       "      <th>브랜드</th>\n",
       "      <th>상품명</th>\n",
       "      <th>가격</th>\n",
       "      <th>리뷰수</th>\n",
       "      <th>상품평점</th>\n",
       "      <th>닉네임</th>\n",
       "      <th>리뷰</th>\n",
       "      <th>별점</th>\n",
       "      <th>날짜</th>\n",
       "      <th>...</th>\n",
       "      <th>사이즈평가</th>\n",
       "      <th>퀄리티평가</th>\n",
       "      <th>색감평가</th>\n",
       "      <th>색감</th>\n",
       "      <th>핏</th>\n",
       "      <th>재질</th>\n",
       "      <th>퀄리티</th>\n",
       "      <th>제품상태</th>\n",
       "      <th>가격.1</th>\n",
       "      <th>두께</th>\n",
       "    </tr>\n",
       "  </thead>\n",
       "  <tbody>\n",
       "    <tr>\n",
       "      <th>0</th>\n",
       "      <td>후드</td>\n",
       "      <td>더블유브이프로젝트</td>\n",
       "      <td>다크니스 후드 블랙 MJHD7427</td>\n",
       "      <td>37310.0</td>\n",
       "      <td>-999</td>\n",
       "      <td>4.8</td>\n",
       "      <td>dh**</td>\n",
       "      <td>S인데도 굉장히 박시하네요 사진상으론 약간 빛 바랜 검정으로 나왓는데 빛때메 그렇고...</td>\n",
       "      <td>4</td>\n",
       "      <td>2021-03-25 00:00:00</td>\n",
       "      <td>...</td>\n",
       "      <td>생각보다 커요</td>\n",
       "      <td>보통이에요</td>\n",
       "      <td>화면과 비슷해요</td>\n",
       "      <td>0</td>\n",
       "      <td>0</td>\n",
       "      <td>0</td>\n",
       "      <td>1</td>\n",
       "      <td>0</td>\n",
       "      <td>0</td>\n",
       "      <td>0</td>\n",
       "    </tr>\n",
       "    <tr>\n",
       "      <th>1</th>\n",
       "      <td>후드</td>\n",
       "      <td>더블유브이프로젝트</td>\n",
       "      <td>다크니스 후드 블랙 MJHD7427</td>\n",
       "      <td>37310.0</td>\n",
       "      <td>-999</td>\n",
       "      <td>4.8</td>\n",
       "      <td>88**</td>\n",
       "      <td>팔길이가 조금 긴 것 같은데 신경 쓰일 정돈 아니고 딱 오버핏이에요 기모도 따뜻해요...</td>\n",
       "      <td>4</td>\n",
       "      <td>2021-01-19 00:00:00</td>\n",
       "      <td>...</td>\n",
       "      <td>생각보다 커요</td>\n",
       "      <td>보통이에요</td>\n",
       "      <td>화면과 비슷해요</td>\n",
       "      <td>0</td>\n",
       "      <td>-1</td>\n",
       "      <td>0</td>\n",
       "      <td>0</td>\n",
       "      <td>0</td>\n",
       "      <td>0</td>\n",
       "      <td>1</td>\n",
       "    </tr>\n",
       "    <tr>\n",
       "      <th>2</th>\n",
       "      <td>후드</td>\n",
       "      <td>더블유브이프로젝트</td>\n",
       "      <td>다크니스 후드 블랙 MJHD7427</td>\n",
       "      <td>37310.0</td>\n",
       "      <td>-999</td>\n",
       "      <td>4.8</td>\n",
       "      <td>a_**</td>\n",
       "      <td>핏은 오버핏이고 자수가 귀여워요\\n근데 한번 세탁+건**지 하고 입었는데 먼지 장난...</td>\n",
       "      <td>4</td>\n",
       "      <td>2022-11-21 00:00:00</td>\n",
       "      <td>...</td>\n",
       "      <td>생각보다 커요</td>\n",
       "      <td>보통이에요</td>\n",
       "      <td>화면과 비슷해요</td>\n",
       "      <td>0</td>\n",
       "      <td>1</td>\n",
       "      <td>0</td>\n",
       "      <td>-1</td>\n",
       "      <td>0</td>\n",
       "      <td>0</td>\n",
       "      <td>0</td>\n",
       "    </tr>\n",
       "    <tr>\n",
       "      <th>3</th>\n",
       "      <td>후드</td>\n",
       "      <td>더블유브이프로젝트</td>\n",
       "      <td>다크니스 후드 블랙 MJHD7427</td>\n",
       "      <td>37310.0</td>\n",
       "      <td>-999</td>\n",
       "      <td>4.8</td>\n",
       "      <td>da**</td>\n",
       "      <td>키 168에 55반 / m사이즈 박시하게 입기에 좋아요\\n기모도 따뜻하고 모자도 커...</td>\n",
       "      <td>4</td>\n",
       "      <td>2022-11-11 00:00:00</td>\n",
       "      <td>...</td>\n",
       "      <td>생각보다 커요</td>\n",
       "      <td>아주 만족해요</td>\n",
       "      <td>화면과 비슷해요</td>\n",
       "      <td>0</td>\n",
       "      <td>1</td>\n",
       "      <td>0</td>\n",
       "      <td>0</td>\n",
       "      <td>0</td>\n",
       "      <td>0</td>\n",
       "      <td>1</td>\n",
       "    </tr>\n",
       "    <tr>\n",
       "      <th>4</th>\n",
       "      <td>후드</td>\n",
       "      <td>더블유브이프로젝트</td>\n",
       "      <td>다크니스 후드 블랙 MJHD7427</td>\n",
       "      <td>37310.0</td>\n",
       "      <td>-999</td>\n",
       "      <td>4.8</td>\n",
       "      <td>rh**</td>\n",
       "      <td>사이즈는 완전 오버핏이지만 예뻐요\\n근데 새옷인데도 검은옷에 겉에 흰 먼지가 많이 ...</td>\n",
       "      <td>4</td>\n",
       "      <td>2021-12-22 00:00:00</td>\n",
       "      <td>...</td>\n",
       "      <td>생각보다 커요</td>\n",
       "      <td>보통이에요</td>\n",
       "      <td>화면과 비슷해요</td>\n",
       "      <td>0</td>\n",
       "      <td>-1</td>\n",
       "      <td>0</td>\n",
       "      <td>0</td>\n",
       "      <td>-1</td>\n",
       "      <td>0</td>\n",
       "      <td>0</td>\n",
       "    </tr>\n",
       "    <tr>\n",
       "      <th>...</th>\n",
       "      <td>...</td>\n",
       "      <td>...</td>\n",
       "      <td>...</td>\n",
       "      <td>...</td>\n",
       "      <td>...</td>\n",
       "      <td>...</td>\n",
       "      <td>...</td>\n",
       "      <td>...</td>\n",
       "      <td>...</td>\n",
       "      <td>...</td>\n",
       "      <td>...</td>\n",
       "      <td>...</td>\n",
       "      <td>...</td>\n",
       "      <td>...</td>\n",
       "      <td>...</td>\n",
       "      <td>...</td>\n",
       "      <td>...</td>\n",
       "      <td>...</td>\n",
       "      <td>...</td>\n",
       "      <td>...</td>\n",
       "      <td>...</td>\n",
       "    </tr>\n",
       "    <tr>\n",
       "      <th>5130</th>\n",
       "      <td>민소매_슬리브리스</td>\n",
       "      <td>룸제이</td>\n",
       "      <td>[1+1할인/당일발송] 올데이 면 스판 크롭 끈나시</td>\n",
       "      <td>6900.0</td>\n",
       "      <td>1116</td>\n",
       "      <td>4.8</td>\n",
       "      <td>ni**</td>\n",
       "      <td>일반 크롭나시 재질에 배송 평범합니다 한 3일 걸린거 같아요 근데 너무 헐렁하고 쫀...</td>\n",
       "      <td>4</td>\n",
       "      <td>2022-01-05 00:00:00</td>\n",
       "      <td>...</td>\n",
       "      <td>생각보다 커요</td>\n",
       "      <td>보통이에요</td>\n",
       "      <td>화면과 비슷해요</td>\n",
       "      <td>0</td>\n",
       "      <td>0</td>\n",
       "      <td>0</td>\n",
       "      <td>-1</td>\n",
       "      <td>0</td>\n",
       "      <td>0</td>\n",
       "      <td>0</td>\n",
       "    </tr>\n",
       "    <tr>\n",
       "      <th>5131</th>\n",
       "      <td>민소매_슬리브리스</td>\n",
       "      <td>룸제이</td>\n",
       "      <td>[1+1할인/당일발송] 올데이 면 스판 크롭 끈나시</td>\n",
       "      <td>6900.0</td>\n",
       "      <td>1116</td>\n",
       "      <td>4.8</td>\n",
       "      <td>rl**</td>\n",
       "      <td>배송 됐을 때 입어봤는데 적당히 크롭이고 엄청 쫀쫀하진 않았던 갓 같네요 셔츠 안에...</td>\n",
       "      <td>4</td>\n",
       "      <td>2023-07-01 00:00:00</td>\n",
       "      <td>...</td>\n",
       "      <td>정사이즈예요</td>\n",
       "      <td>보통이에요</td>\n",
       "      <td>화면과 비슷해요</td>\n",
       "      <td>0</td>\n",
       "      <td>1</td>\n",
       "      <td>0</td>\n",
       "      <td>0</td>\n",
       "      <td>0</td>\n",
       "      <td>0</td>\n",
       "      <td>0</td>\n",
       "    </tr>\n",
       "    <tr>\n",
       "      <th>5132</th>\n",
       "      <td>민소매_슬리브리스</td>\n",
       "      <td>룸제이</td>\n",
       "      <td>[1+1할인/당일발송] 올데이 면 스판 크롭 끈나시</td>\n",
       "      <td>6900.0</td>\n",
       "      <td>1116</td>\n",
       "      <td>4.8</td>\n",
       "      <td>ks**</td>\n",
       "      <td>재질이너무부드러워서 일단만족. 길이는 키 체형에 따라 차이잇을꺼같은데 일단 저한테는...</td>\n",
       "      <td>4</td>\n",
       "      <td>2022-06-20 00:00:00</td>\n",
       "      <td>...</td>\n",
       "      <td>정사이즈예요</td>\n",
       "      <td>아주 만족해요</td>\n",
       "      <td>화면과 비슷해요</td>\n",
       "      <td>0</td>\n",
       "      <td>0</td>\n",
       "      <td>1</td>\n",
       "      <td>0</td>\n",
       "      <td>0</td>\n",
       "      <td>0</td>\n",
       "      <td>0</td>\n",
       "    </tr>\n",
       "    <tr>\n",
       "      <th>5133</th>\n",
       "      <td>민소매_슬리브리스</td>\n",
       "      <td>룸제이</td>\n",
       "      <td>[1+1할인/당일발송] 올데이 면 스판 크롭 끈나시</td>\n",
       "      <td>6900.0</td>\n",
       "      <td>1116</td>\n",
       "      <td>4.8</td>\n",
       "      <td>zz**</td>\n",
       "      <td>생각보다 짧은 듯한 느낌적인 느낌이 있지만 알고산거라 괜찮아여\\n크롭기장 상의 입을...</td>\n",
       "      <td>4</td>\n",
       "      <td>2022-12-14 00:00:00</td>\n",
       "      <td>...</td>\n",
       "      <td>정사이즈예요</td>\n",
       "      <td>보통이에요</td>\n",
       "      <td>화면과 비슷해요</td>\n",
       "      <td>0</td>\n",
       "      <td>1</td>\n",
       "      <td>0</td>\n",
       "      <td>0</td>\n",
       "      <td>0</td>\n",
       "      <td>0</td>\n",
       "      <td>0</td>\n",
       "    </tr>\n",
       "    <tr>\n",
       "      <th>5134</th>\n",
       "      <td>민소매_슬리브리스</td>\n",
       "      <td>룸제이</td>\n",
       "      <td>[1+1할인/당일발송] 올데이 면 스판 크롭 끈나시</td>\n",
       "      <td>6900.0</td>\n",
       "      <td>1116</td>\n",
       "      <td>4.8</td>\n",
       "      <td>ss**</td>\n",
       "      <td>겨울엔 넣어입는 옷들이 있어서 일부러 크롭 끈나시 산건데 너무 만족해요 다른 타 쇼...</td>\n",
       "      <td>4</td>\n",
       "      <td>2023-11-02 00:00:00</td>\n",
       "      <td>...</td>\n",
       "      <td>정사이즈예요</td>\n",
       "      <td>아주 만족해요</td>\n",
       "      <td>화면과 비슷해요</td>\n",
       "      <td>0</td>\n",
       "      <td>1</td>\n",
       "      <td>0</td>\n",
       "      <td>0</td>\n",
       "      <td>0</td>\n",
       "      <td>0</td>\n",
       "      <td>0</td>\n",
       "    </tr>\n",
       "  </tbody>\n",
       "</table>\n",
       "<p>5135 rows × 24 columns</p>\n",
       "</div>"
      ],
      "text/plain": [
       "            중분류        브랜드                           상품명       가격   리뷰수  상품평점  \\\n",
       "0            후드  더블유브이프로젝트           다크니스 후드 블랙 MJHD7427  37310.0  -999   4.8   \n",
       "1            후드  더블유브이프로젝트           다크니스 후드 블랙 MJHD7427  37310.0  -999   4.8   \n",
       "2            후드  더블유브이프로젝트           다크니스 후드 블랙 MJHD7427  37310.0  -999   4.8   \n",
       "3            후드  더블유브이프로젝트           다크니스 후드 블랙 MJHD7427  37310.0  -999   4.8   \n",
       "4            후드  더블유브이프로젝트           다크니스 후드 블랙 MJHD7427  37310.0  -999   4.8   \n",
       "...         ...        ...                           ...      ...   ...   ...   \n",
       "5130  민소매_슬리브리스        룸제이  [1+1할인/당일발송] 올데이 면 스판 크롭 끈나시   6900.0  1116   4.8   \n",
       "5131  민소매_슬리브리스        룸제이  [1+1할인/당일발송] 올데이 면 스판 크롭 끈나시   6900.0  1116   4.8   \n",
       "5132  민소매_슬리브리스        룸제이  [1+1할인/당일발송] 올데이 면 스판 크롭 끈나시   6900.0  1116   4.8   \n",
       "5133  민소매_슬리브리스        룸제이  [1+1할인/당일발송] 올데이 면 스판 크롭 끈나시   6900.0  1116   4.8   \n",
       "5134  민소매_슬리브리스        룸제이  [1+1할인/당일발송] 올데이 면 스판 크롭 끈나시   6900.0  1116   4.8   \n",
       "\n",
       "       닉네임                                                 리뷰  별점  \\\n",
       "0     dh**  S인데도 굉장히 박시하네요 사진상으론 약간 빛 바랜 검정으로 나왓는데 빛때메 그렇고...   4   \n",
       "1     88**  팔길이가 조금 긴 것 같은데 신경 쓰일 정돈 아니고 딱 오버핏이에요 기모도 따뜻해요...   4   \n",
       "2     a_**  핏은 오버핏이고 자수가 귀여워요\\n근데 한번 세탁+건**지 하고 입었는데 먼지 장난...   4   \n",
       "3     da**  키 168에 55반 / m사이즈 박시하게 입기에 좋아요\\n기모도 따뜻하고 모자도 커...   4   \n",
       "4     rh**  사이즈는 완전 오버핏이지만 예뻐요\\n근데 새옷인데도 검은옷에 겉에 흰 먼지가 많이 ...   4   \n",
       "...    ...                                                ...  ..   \n",
       "5130  ni**  일반 크롭나시 재질에 배송 평범합니다 한 3일 걸린거 같아요 근데 너무 헐렁하고 쫀...   4   \n",
       "5131  rl**  배송 됐을 때 입어봤는데 적당히 크롭이고 엄청 쫀쫀하진 않았던 갓 같네요 셔츠 안에...   4   \n",
       "5132  ks**  재질이너무부드러워서 일단만족. 길이는 키 체형에 따라 차이잇을꺼같은데 일단 저한테는...   4   \n",
       "5133  zz**  생각보다 짧은 듯한 느낌적인 느낌이 있지만 알고산거라 괜찮아여\\n크롭기장 상의 입을...   4   \n",
       "5134  ss**  겨울엔 넣어입는 옷들이 있어서 일부러 크롭 끈나시 산건데 너무 만족해요 다른 타 쇼...   4   \n",
       "\n",
       "                       날짜  ...    사이즈평가    퀄리티평가      색감평가 색감  핏 재질 퀄리티  제품상태  \\\n",
       "0     2021-03-25 00:00:00  ...  생각보다 커요    보통이에요  화면과 비슷해요  0  0  0   1     0   \n",
       "1     2021-01-19 00:00:00  ...  생각보다 커요    보통이에요  화면과 비슷해요  0 -1  0   0     0   \n",
       "2     2022-11-21 00:00:00  ...  생각보다 커요    보통이에요  화면과 비슷해요  0  1  0  -1     0   \n",
       "3     2022-11-11 00:00:00  ...  생각보다 커요  아주 만족해요  화면과 비슷해요  0  1  0   0     0   \n",
       "4     2021-12-22 00:00:00  ...  생각보다 커요    보통이에요  화면과 비슷해요  0 -1  0   0    -1   \n",
       "...                   ...  ...      ...      ...       ... .. .. ..  ..   ...   \n",
       "5130  2022-01-05 00:00:00  ...  생각보다 커요    보통이에요  화면과 비슷해요  0  0  0  -1     0   \n",
       "5131  2023-07-01 00:00:00  ...   정사이즈예요    보통이에요  화면과 비슷해요  0  1  0   0     0   \n",
       "5132  2022-06-20 00:00:00  ...   정사이즈예요  아주 만족해요  화면과 비슷해요  0  0  1   0     0   \n",
       "5133  2022-12-14 00:00:00  ...   정사이즈예요    보통이에요  화면과 비슷해요  0  1  0   0     0   \n",
       "5134  2023-11-02 00:00:00  ...   정사이즈예요  아주 만족해요  화면과 비슷해요  0  1  0   0     0   \n",
       "\n",
       "      가격.1  두께  \n",
       "0        0   0  \n",
       "1        0   1  \n",
       "2        0   0  \n",
       "3        0   1  \n",
       "4        0   0  \n",
       "...    ...  ..  \n",
       "5130     0   0  \n",
       "5131     0   0  \n",
       "5132     0   0  \n",
       "5133     0   0  \n",
       "5134     0   0  \n",
       "\n",
       "[5135 rows x 24 columns]"
      ]
     },
     "execution_count": 2,
     "metadata": {},
     "output_type": "execute_result"
    }
   ],
   "source": [
    "import numpy as np\n",
    "import random # 시드 고정을 위해\n",
    "import os # 시드 고정을 위해\n",
    "import pandas as pd\n",
    "\n",
    "from sklearn.model_selection import train_test_split\n",
    "from sklearn.model_selection import cross_val_score\n",
    "from sklearn.model_selection import KFold\n",
    "\n",
    "import torch\n",
    "from torch import Tensor,tensor\n",
    "from torch.utils.data import DataLoader,Dataset\n",
    "from torch.nn import Module,Sequential\n",
    "\n",
    "device= 'cuda' if torch.cuda.is_available() else 'cpu'\n",
    "\n",
    "def reset_seeds(seed):\n",
    "    random.seed(seed)\n",
    "    os.environ['PYTHONHASHSEED'] = str(seed)\n",
    "    np.random.seed(seed)\n",
    "    torch.manual_seed(seed)\n",
    "    torch.cuda.manual_seed(seed)\n",
    "    torch.backends.cudnn.deterministic = True\n",
    "\n",
    "import pymysql\n",
    "import pandas as pd\n",
    "\n",
    "conn = pymysql.connect(host='127.0.0.1', user='wodus1530',\n",
    "                       password='dkvms7255', db='Zigzag')\n",
    "\n",
    "\n",
    "cursor = conn.cursor()\n",
    "\n",
    "\n",
    "sql_query = 'SELECT * FROM db'\n",
    "cursor.execute(sql_query)\n",
    "\n",
    "result = cursor.fetchall()\n",
    "column_names = [i[0] for i in cursor.description]\n",
    "\n",
    "\n",
    "db = pd.DataFrame(result, columns=column_names)\n",
    "\n",
    "cursor.close()\n",
    "conn.close()\n",
    "\n",
    "db\n"
   ]
  },
  {
   "cell_type": "code",
   "execution_count": 3,
   "metadata": {},
   "outputs": [
    {
     "data": {
      "text/html": [
       "<div>\n",
       "<style scoped>\n",
       "    .dataframe tbody tr th:only-of-type {\n",
       "        vertical-align: middle;\n",
       "    }\n",
       "\n",
       "    .dataframe tbody tr th {\n",
       "        vertical-align: top;\n",
       "    }\n",
       "\n",
       "    .dataframe thead th {\n",
       "        text-align: right;\n",
       "    }\n",
       "</style>\n",
       "<table border=\"1\" class=\"dataframe\">\n",
       "  <thead>\n",
       "    <tr style=\"text-align: right;\">\n",
       "      <th></th>\n",
       "      <th>리뷰</th>\n",
       "      <th>target</th>\n",
       "    </tr>\n",
       "  </thead>\n",
       "  <tbody>\n",
       "    <tr>\n",
       "      <th>17</th>\n",
       "      <td>저한테는 조금 커요 ㅠㅠ 근데 딱 교복에 입으면\\n완전 짱이뻐요 전에 검정색을 샀었...</td>\n",
       "      <td>1</td>\n",
       "    </tr>\n",
       "    <tr>\n",
       "      <th>20</th>\n",
       "      <td>옷이 좀 많이 컷어요. 그래도 색은 이쁘고 얇기는 좀 얇아서  봄이나 초여름 저녁에...</td>\n",
       "      <td>1</td>\n",
       "    </tr>\n",
       "    <tr>\n",
       "      <th>41</th>\n",
       "      <td>사이즈랑 재질다 괜찮아요 브라운색으로 구매했는데 생각보다 쨍한 갈색인것같아여</td>\n",
       "      <td>1</td>\n",
       "    </tr>\n",
       "    <tr>\n",
       "      <th>53</th>\n",
       "      <td>핏이랑 색감, 착용감 모두 맘에 들었어요.</td>\n",
       "      <td>1</td>\n",
       "    </tr>\n",
       "    <tr>\n",
       "      <th>56</th>\n",
       "      <td>사이즈는 작은데 착용감은 괜찮고 색깔도 그대로여서 좋았어요</td>\n",
       "      <td>1</td>\n",
       "    </tr>\n",
       "    <tr>\n",
       "      <th>...</th>\n",
       "      <td>...</td>\n",
       "      <td>...</td>\n",
       "    </tr>\n",
       "    <tr>\n",
       "      <th>5130</th>\n",
       "      <td>일반 크롭나시 재질에 배송 평범합니다 한 3일 걸린거 같아요 근데 너무 헐렁하고 쫀...</td>\n",
       "      <td>0</td>\n",
       "    </tr>\n",
       "    <tr>\n",
       "      <th>5131</th>\n",
       "      <td>배송 됐을 때 입어봤는데 적당히 크롭이고 엄청 쫀쫀하진 않았던 갓 같네요 셔츠 안에...</td>\n",
       "      <td>0</td>\n",
       "    </tr>\n",
       "    <tr>\n",
       "      <th>5132</th>\n",
       "      <td>재질이너무부드러워서 일단만족. 길이는 키 체형에 따라 차이잇을꺼같은데 일단 저한테는...</td>\n",
       "      <td>0</td>\n",
       "    </tr>\n",
       "    <tr>\n",
       "      <th>5133</th>\n",
       "      <td>생각보다 짧은 듯한 느낌적인 느낌이 있지만 알고산거라 괜찮아여\\n크롭기장 상의 입을...</td>\n",
       "      <td>0</td>\n",
       "    </tr>\n",
       "    <tr>\n",
       "      <th>5134</th>\n",
       "      <td>겨울엔 넣어입는 옷들이 있어서 일부러 크롭 끈나시 산건데 너무 만족해요 다른 타 쇼...</td>\n",
       "      <td>0</td>\n",
       "    </tr>\n",
       "  </tbody>\n",
       "</table>\n",
       "<p>5135 rows × 2 columns</p>\n",
       "</div>"
      ],
      "text/plain": [
       "                                                     리뷰  target\n",
       "17    저한테는 조금 커요 ㅠㅠ 근데 딱 교복에 입으면\\n완전 짱이뻐요 전에 검정색을 샀었...       1\n",
       "20    옷이 좀 많이 컷어요. 그래도 색은 이쁘고 얇기는 좀 얇아서  봄이나 초여름 저녁에...       1\n",
       "41           사이즈랑 재질다 괜찮아요 브라운색으로 구매했는데 생각보다 쨍한 갈색인것같아여       1\n",
       "53                              핏이랑 색감, 착용감 모두 맘에 들었어요.       1\n",
       "56                     사이즈는 작은데 착용감은 괜찮고 색깔도 그대로여서 좋았어요       1\n",
       "...                                                 ...     ...\n",
       "5130  일반 크롭나시 재질에 배송 평범합니다 한 3일 걸린거 같아요 근데 너무 헐렁하고 쫀...       0\n",
       "5131  배송 됐을 때 입어봤는데 적당히 크롭이고 엄청 쫀쫀하진 않았던 갓 같네요 셔츠 안에...       0\n",
       "5132  재질이너무부드러워서 일단만족. 길이는 키 체형에 따라 차이잇을꺼같은데 일단 저한테는...       0\n",
       "5133  생각보다 짧은 듯한 느낌적인 느낌이 있지만 알고산거라 괜찮아여\\n크롭기장 상의 입을...       0\n",
       "5134  겨울엔 넣어입는 옷들이 있어서 일부러 크롭 끈나시 산건데 너무 만족해요 다른 타 쇼...       0\n",
       "\n",
       "[5135 rows x 2 columns]"
      ]
     },
     "execution_count": 3,
     "metadata": {},
     "output_type": "execute_result"
    }
   ],
   "source": [
    "color_data_1 = pd.DataFrame(db[db['색감'] != 0]['리뷰'], columns=['리뷰'])\n",
    "color_data_1['target'] = 1\n",
    "\n",
    "color_data_2 = pd.DataFrame(db[db['색감'] == 0]['리뷰'], columns=['리뷰'])\n",
    "color_data_2['target'] = 0\n",
    "\n",
    "color_data = pd.concat([color_data_1, color_data_2], axis=0)\n",
    "color_data"
   ]
  },
  {
   "cell_type": "markdown",
   "metadata": {},
   "source": [
    "## sklearn 기반의 키워드 평가 요소 판별"
   ]
  },
  {
   "cell_type": "code",
   "execution_count": 97,
   "metadata": {},
   "outputs": [
    {
     "data": {
      "text/plain": [
       "17      1\n",
       "20      1\n",
       "41      1\n",
       "53      1\n",
       "56      1\n",
       "       ..\n",
       "5130    0\n",
       "5131    0\n",
       "5132    0\n",
       "5133    0\n",
       "5134    0\n",
       "Name: target, Length: 5135, dtype: int64"
      ]
     },
     "execution_count": 97,
     "metadata": {},
     "output_type": "execute_result"
    }
   ],
   "source": [
    "target=color_data['target'] #.to_numpy().reshape(-1,1)\n",
    "target"
   ]
  },
  {
   "cell_type": "code",
   "execution_count": 6,
   "metadata": {},
   "outputs": [
    {
     "data": {
      "text/plain": [
       "['S',\n",
       " '인데',\n",
       " '도',\n",
       " '굉장히',\n",
       " '박시',\n",
       " '하',\n",
       " '네요',\n",
       " '사진',\n",
       " '상',\n",
       " '으론',\n",
       " '약간',\n",
       " '빛',\n",
       " '바랜',\n",
       " '검정',\n",
       " '으로',\n",
       " '나왓',\n",
       " '는데',\n",
       " '빛',\n",
       " '때메',\n",
       " '그렇',\n",
       " '고',\n",
       " '실제론',\n",
       " '걍',\n",
       " '검정',\n",
       " '이',\n",
       " '어유',\n",
       " '키',\n",
       " '기준',\n",
       " '으로',\n",
       " '궁',\n",
       " '딩',\n",
       " '이',\n",
       " '거의',\n",
       " '안',\n",
       " '보여',\n",
       " '유',\n",
       " '여',\n",
       " '튼',\n",
       " '도톰',\n",
       " '하',\n",
       " '니',\n",
       " '맘',\n",
       " '에',\n",
       " '듭니당']"
      ]
     },
     "execution_count": 6,
     "metadata": {},
     "output_type": "execute_result"
    }
   ],
   "source": [
    "from mecab import MeCab\n",
    "\n",
    "tokenizer = MeCab()\n",
    "tokenizer.morphs(color_data[\"리뷰\"][0])"
   ]
  },
  {
   "cell_type": "code",
   "execution_count": 7,
   "metadata": {},
   "outputs": [
    {
     "data": {
      "text/plain": [
       "[('S', 'SL'),\n",
       " ('인데', 'VCP+EC'),\n",
       " ('도', 'JX'),\n",
       " ('굉장히', 'MAG'),\n",
       " ('박시', 'NNG'),\n",
       " ('하', 'XSV'),\n",
       " ('네요', 'EC'),\n",
       " ('사진', 'NNG'),\n",
       " ('상', 'XSN'),\n",
       " ('으론', 'JKB+JX'),\n",
       " ('약간', 'MAG'),\n",
       " ('빛', 'NNG'),\n",
       " ('바랜', 'VV+ETM'),\n",
       " ('검정', 'NNG'),\n",
       " ('으로', 'JKB'),\n",
       " ('나왓', 'VV+EP'),\n",
       " ('는데', 'EC'),\n",
       " ('빛', 'NNG'),\n",
       " ('때메', 'NNB+JKB'),\n",
       " ('그렇', 'VA'),\n",
       " ('고', 'EC'),\n",
       " ('실제론', 'MAG+JX'),\n",
       " ('걍', 'UNKNOWN'),\n",
       " ('검정', 'NNG'),\n",
       " ('이', 'VCP'),\n",
       " ('어유', 'EC'),\n",
       " ('키', 'NNG'),\n",
       " ('기준', 'NNG'),\n",
       " ('으로', 'JKB'),\n",
       " ('궁', 'NNG'),\n",
       " ('딩', 'NNG'),\n",
       " ('이', 'JKS'),\n",
       " ('거의', 'MAG'),\n",
       " ('안', 'MAG'),\n",
       " ('보여', 'VV+EC'),\n",
       " ('유', 'JX'),\n",
       " ('여', 'VV'),\n",
       " ('튼', 'ETM'),\n",
       " ('도톰', 'XR'),\n",
       " ('하', 'XSA'),\n",
       " ('니', 'EC'),\n",
       " ('맘', 'NNG'),\n",
       " ('에', 'JKB'),\n",
       " ('듭니당', 'UNKNOWN')]"
      ]
     },
     "execution_count": 7,
     "metadata": {},
     "output_type": "execute_result"
    }
   ],
   "source": [
    "tokenizer.pos(color_data[\"리뷰\"][0])"
   ]
  },
  {
   "cell_type": "code",
   "execution_count": 8,
   "metadata": {},
   "outputs": [],
   "source": [
    "filter=['NNG','MAG','EC','VA','VA+EF','VV+ETM','NNB+JKB','VCP+EC','VCP','MAG+JX','VCN']"
   ]
  },
  {
   "cell_type": "code",
   "execution_count": 47,
   "metadata": {},
   "outputs": [
    {
     "name": "stderr",
     "output_type": "stream",
     "text": [
      "100%|██████████| 5135/5135 [00:06<00:00, 765.89it/s] \n"
     ]
    }
   ],
   "source": [
    "from tqdm import tqdm\n",
    "\n",
    "\n",
    "\n",
    "\n",
    "train_list = []\n",
    "\n",
    "for text in tqdm(color_data[\"리뷰\"]):\n",
    "    prah = []  \n",
    "    lst = tokenizer.pos(text)  \n",
    "    for word, pos in lst:\n",
    "        if pos in filter:\n",
    "            prah.append(word)  \n",
    "    train_list.append(prah)  \n",
    "\n",
    "\n"
   ]
  },
  {
   "cell_type": "code",
   "execution_count": 55,
   "metadata": {},
   "outputs": [],
   "source": [
    "df = pd.DataFrame({'tokens': train_list})\n",
    "df['tokens']=df['tokens'].apply(lambda x:' '.join(x))"
   ]
  },
  {
   "cell_type": "code",
   "execution_count": 198,
   "metadata": {},
   "outputs": [
    {
     "data": {
      "text/plain": [
       "<5135x1000 sparse matrix of type '<class 'numpy.float64'>'\n",
       "\twith 58320 stored elements in Compressed Sparse Row format>"
      ]
     },
     "execution_count": 198,
     "metadata": {},
     "output_type": "execute_result"
    }
   ],
   "source": [
    "from sklearn.feature_extraction.text import TfidfVectorizer\n",
    "\n",
    "vectorizer = TfidfVectorizer(max_features=1000)\n",
    "tfidf = vectorizer.fit_transform(df[\"tokens\"])\n",
    "tfidf"
   ]
  },
  {
   "cell_type": "code",
   "execution_count": 199,
   "metadata": {},
   "outputs": [],
   "source": [
    "tfidf=tfidf.toarray()"
   ]
  },
  {
   "cell_type": "code",
   "execution_count": 200,
   "metadata": {},
   "outputs": [
    {
     "data": {
      "text/plain": [
       "(5135, 1000)"
      ]
     },
     "execution_count": 200,
     "metadata": {},
     "output_type": "execute_result"
    }
   ],
   "source": [
    "from sklearn.preprocessing import MinMaxScaler\n",
    "from sklearn.decomposition import TruncatedSVD\n",
    "\n",
    "\n",
    "scaler = MinMaxScaler()\n",
    "x_arr = scaler.fit_transform(tfidf)\n",
    "x_arr.shape\n"
   ]
  },
  {
   "cell_type": "code",
   "execution_count": 202,
   "metadata": {},
   "outputs": [
    {
     "data": {
      "text/plain": [
       "(5135, 100)"
      ]
     },
     "execution_count": 202,
     "metadata": {},
     "output_type": "execute_result"
    }
   ],
   "source": [
    "\n",
    "from sklearn.decomposition import TruncatedSVD\n",
    "lsa_model = TruncatedSVD(100, random_state=42)\n",
    "x_train = lsa_model.fit_transform(x_arr)\n",
    "x_train.shape\n"
   ]
  },
  {
   "cell_type": "code",
   "execution_count": 203,
   "metadata": {},
   "outputs": [
    {
     "data": {
      "text/plain": [
       "0.8338851022395326"
      ]
     },
     "execution_count": 203,
     "metadata": {},
     "output_type": "execute_result"
    }
   ],
   "source": [
    "from sklearn.linear_model import LogisticRegression\n",
    "from sklearn.model_selection import cross_val_score, KFold\n",
    "cv = KFold(5, shuffle=True, random_state=42)\n",
    "\n",
    "model = LogisticRegression(random_state=42)\n",
    "scores = cross_val_score(model,tfidf,target,cv=cv, scoring=\"accuracy\", n_jobs=-1)\n",
    "scores.mean()"
   ]
  },
  {
   "cell_type": "code",
   "execution_count": 204,
   "metadata": {},
   "outputs": [
    {
     "data": {
      "text/plain": [
       "0.828821811100292"
      ]
     },
     "execution_count": 204,
     "metadata": {},
     "output_type": "execute_result"
    }
   ],
   "source": [
    "from sklearn.linear_model import LogisticRegression\n",
    "from sklearn.model_selection import cross_val_score, KFold\n",
    "cv = KFold(5, shuffle=True, random_state=42)\n",
    "\n",
    "model = LogisticRegression(random_state=42)\n",
    "scores = cross_val_score(model,x_train,target,cv=cv, scoring=\"accuracy\", n_jobs=-1)\n",
    "scores.mean()"
   ]
  },
  {
   "cell_type": "code",
   "execution_count": 205,
   "metadata": {},
   "outputs": [
    {
     "data": {
      "text/html": [
       "<style>#sk-container-id-6 {color: black;}#sk-container-id-6 pre{padding: 0;}#sk-container-id-6 div.sk-toggleable {background-color: white;}#sk-container-id-6 label.sk-toggleable__label {cursor: pointer;display: block;width: 100%;margin-bottom: 0;padding: 0.3em;box-sizing: border-box;text-align: center;}#sk-container-id-6 label.sk-toggleable__label-arrow:before {content: \"▸\";float: left;margin-right: 0.25em;color: #696969;}#sk-container-id-6 label.sk-toggleable__label-arrow:hover:before {color: black;}#sk-container-id-6 div.sk-estimator:hover label.sk-toggleable__label-arrow:before {color: black;}#sk-container-id-6 div.sk-toggleable__content {max-height: 0;max-width: 0;overflow: hidden;text-align: left;background-color: #f0f8ff;}#sk-container-id-6 div.sk-toggleable__content pre {margin: 0.2em;color: black;border-radius: 0.25em;background-color: #f0f8ff;}#sk-container-id-6 input.sk-toggleable__control:checked~div.sk-toggleable__content {max-height: 200px;max-width: 100%;overflow: auto;}#sk-container-id-6 input.sk-toggleable__control:checked~label.sk-toggleable__label-arrow:before {content: \"▾\";}#sk-container-id-6 div.sk-estimator input.sk-toggleable__control:checked~label.sk-toggleable__label {background-color: #d4ebff;}#sk-container-id-6 div.sk-label input.sk-toggleable__control:checked~label.sk-toggleable__label {background-color: #d4ebff;}#sk-container-id-6 input.sk-hidden--visually {border: 0;clip: rect(1px 1px 1px 1px);clip: rect(1px, 1px, 1px, 1px);height: 1px;margin: -1px;overflow: hidden;padding: 0;position: absolute;width: 1px;}#sk-container-id-6 div.sk-estimator {font-family: monospace;background-color: #f0f8ff;border: 1px dotted black;border-radius: 0.25em;box-sizing: border-box;margin-bottom: 0.5em;}#sk-container-id-6 div.sk-estimator:hover {background-color: #d4ebff;}#sk-container-id-6 div.sk-parallel-item::after {content: \"\";width: 100%;border-bottom: 1px solid gray;flex-grow: 1;}#sk-container-id-6 div.sk-label:hover label.sk-toggleable__label {background-color: #d4ebff;}#sk-container-id-6 div.sk-serial::before {content: \"\";position: absolute;border-left: 1px solid gray;box-sizing: border-box;top: 0;bottom: 0;left: 50%;z-index: 0;}#sk-container-id-6 div.sk-serial {display: flex;flex-direction: column;align-items: center;background-color: white;padding-right: 0.2em;padding-left: 0.2em;position: relative;}#sk-container-id-6 div.sk-item {position: relative;z-index: 1;}#sk-container-id-6 div.sk-parallel {display: flex;align-items: stretch;justify-content: center;background-color: white;position: relative;}#sk-container-id-6 div.sk-item::before, #sk-container-id-6 div.sk-parallel-item::before {content: \"\";position: absolute;border-left: 1px solid gray;box-sizing: border-box;top: 0;bottom: 0;left: 50%;z-index: -1;}#sk-container-id-6 div.sk-parallel-item {display: flex;flex-direction: column;z-index: 1;position: relative;background-color: white;}#sk-container-id-6 div.sk-parallel-item:first-child::after {align-self: flex-end;width: 50%;}#sk-container-id-6 div.sk-parallel-item:last-child::after {align-self: flex-start;width: 50%;}#sk-container-id-6 div.sk-parallel-item:only-child::after {width: 0;}#sk-container-id-6 div.sk-dashed-wrapped {border: 1px dashed gray;margin: 0 0.4em 0.5em 0.4em;box-sizing: border-box;padding-bottom: 0.4em;background-color: white;}#sk-container-id-6 div.sk-label label {font-family: monospace;font-weight: bold;display: inline-block;line-height: 1.2em;}#sk-container-id-6 div.sk-label-container {text-align: center;}#sk-container-id-6 div.sk-container {/* jupyter's `normalize.less` sets `[hidden] { display: none; }` but bootstrap.min.css set `[hidden] { display: none !important; }` so we also need the `!important` here to be able to override the default hidden behavior on the sphinx rendered scikit-learn.org. See: https://github.com/scikit-learn/scikit-learn/issues/21755 */display: inline-block !important;position: relative;}#sk-container-id-6 div.sk-text-repr-fallback {display: none;}</style><div id=\"sk-container-id-6\" class=\"sk-top-container\"><div class=\"sk-text-repr-fallback\"><pre>LogisticRegression(random_state=42)</pre><b>In a Jupyter environment, please rerun this cell to show the HTML representation or trust the notebook. <br />On GitHub, the HTML representation is unable to render, please try loading this page with nbviewer.org.</b></div><div class=\"sk-container\" hidden><div class=\"sk-item\"><div class=\"sk-estimator sk-toggleable\"><input class=\"sk-toggleable__control sk-hidden--visually\" id=\"sk-estimator-id-6\" type=\"checkbox\" checked><label for=\"sk-estimator-id-6\" class=\"sk-toggleable__label sk-toggleable__label-arrow\">LogisticRegression</label><div class=\"sk-toggleable__content\"><pre>LogisticRegression(random_state=42)</pre></div></div></div></div></div>"
      ],
      "text/plain": [
       "LogisticRegression(random_state=42)"
      ]
     },
     "execution_count": 205,
     "metadata": {},
     "output_type": "execute_result"
    }
   ],
   "source": [
    "model.fit(tfidf,target)"
   ]
  },
  {
   "cell_type": "code",
   "execution_count": 211,
   "metadata": {},
   "outputs": [
    {
     "data": {
      "text/html": [
       "<style>#sk-container-id-7 {color: black;}#sk-container-id-7 pre{padding: 0;}#sk-container-id-7 div.sk-toggleable {background-color: white;}#sk-container-id-7 label.sk-toggleable__label {cursor: pointer;display: block;width: 100%;margin-bottom: 0;padding: 0.3em;box-sizing: border-box;text-align: center;}#sk-container-id-7 label.sk-toggleable__label-arrow:before {content: \"▸\";float: left;margin-right: 0.25em;color: #696969;}#sk-container-id-7 label.sk-toggleable__label-arrow:hover:before {color: black;}#sk-container-id-7 div.sk-estimator:hover label.sk-toggleable__label-arrow:before {color: black;}#sk-container-id-7 div.sk-toggleable__content {max-height: 0;max-width: 0;overflow: hidden;text-align: left;background-color: #f0f8ff;}#sk-container-id-7 div.sk-toggleable__content pre {margin: 0.2em;color: black;border-radius: 0.25em;background-color: #f0f8ff;}#sk-container-id-7 input.sk-toggleable__control:checked~div.sk-toggleable__content {max-height: 200px;max-width: 100%;overflow: auto;}#sk-container-id-7 input.sk-toggleable__control:checked~label.sk-toggleable__label-arrow:before {content: \"▾\";}#sk-container-id-7 div.sk-estimator input.sk-toggleable__control:checked~label.sk-toggleable__label {background-color: #d4ebff;}#sk-container-id-7 div.sk-label input.sk-toggleable__control:checked~label.sk-toggleable__label {background-color: #d4ebff;}#sk-container-id-7 input.sk-hidden--visually {border: 0;clip: rect(1px 1px 1px 1px);clip: rect(1px, 1px, 1px, 1px);height: 1px;margin: -1px;overflow: hidden;padding: 0;position: absolute;width: 1px;}#sk-container-id-7 div.sk-estimator {font-family: monospace;background-color: #f0f8ff;border: 1px dotted black;border-radius: 0.25em;box-sizing: border-box;margin-bottom: 0.5em;}#sk-container-id-7 div.sk-estimator:hover {background-color: #d4ebff;}#sk-container-id-7 div.sk-parallel-item::after {content: \"\";width: 100%;border-bottom: 1px solid gray;flex-grow: 1;}#sk-container-id-7 div.sk-label:hover label.sk-toggleable__label {background-color: #d4ebff;}#sk-container-id-7 div.sk-serial::before {content: \"\";position: absolute;border-left: 1px solid gray;box-sizing: border-box;top: 0;bottom: 0;left: 50%;z-index: 0;}#sk-container-id-7 div.sk-serial {display: flex;flex-direction: column;align-items: center;background-color: white;padding-right: 0.2em;padding-left: 0.2em;position: relative;}#sk-container-id-7 div.sk-item {position: relative;z-index: 1;}#sk-container-id-7 div.sk-parallel {display: flex;align-items: stretch;justify-content: center;background-color: white;position: relative;}#sk-container-id-7 div.sk-item::before, #sk-container-id-7 div.sk-parallel-item::before {content: \"\";position: absolute;border-left: 1px solid gray;box-sizing: border-box;top: 0;bottom: 0;left: 50%;z-index: -1;}#sk-container-id-7 div.sk-parallel-item {display: flex;flex-direction: column;z-index: 1;position: relative;background-color: white;}#sk-container-id-7 div.sk-parallel-item:first-child::after {align-self: flex-end;width: 50%;}#sk-container-id-7 div.sk-parallel-item:last-child::after {align-self: flex-start;width: 50%;}#sk-container-id-7 div.sk-parallel-item:only-child::after {width: 0;}#sk-container-id-7 div.sk-dashed-wrapped {border: 1px dashed gray;margin: 0 0.4em 0.5em 0.4em;box-sizing: border-box;padding-bottom: 0.4em;background-color: white;}#sk-container-id-7 div.sk-label label {font-family: monospace;font-weight: bold;display: inline-block;line-height: 1.2em;}#sk-container-id-7 div.sk-label-container {text-align: center;}#sk-container-id-7 div.sk-container {/* jupyter's `normalize.less` sets `[hidden] { display: none; }` but bootstrap.min.css set `[hidden] { display: none !important; }` so we also need the `!important` here to be able to override the default hidden behavior on the sphinx rendered scikit-learn.org. See: https://github.com/scikit-learn/scikit-learn/issues/21755 */display: inline-block !important;position: relative;}#sk-container-id-7 div.sk-text-repr-fallback {display: none;}</style><div id=\"sk-container-id-7\" class=\"sk-top-container\"><div class=\"sk-text-repr-fallback\"><pre>LogisticRegression(random_state=42)</pre><b>In a Jupyter environment, please rerun this cell to show the HTML representation or trust the notebook. <br />On GitHub, the HTML representation is unable to render, please try loading this page with nbviewer.org.</b></div><div class=\"sk-container\" hidden><div class=\"sk-item\"><div class=\"sk-estimator sk-toggleable\"><input class=\"sk-toggleable__control sk-hidden--visually\" id=\"sk-estimator-id-7\" type=\"checkbox\" checked><label for=\"sk-estimator-id-7\" class=\"sk-toggleable__label sk-toggleable__label-arrow\">LogisticRegression</label><div class=\"sk-toggleable__content\"><pre>LogisticRegression(random_state=42)</pre></div></div></div></div></div>"
      ],
      "text/plain": [
       "LogisticRegression(random_state=42)"
      ]
     },
     "execution_count": 211,
     "metadata": {},
     "output_type": "execute_result"
    }
   ],
   "source": [
    "model.fit(x_train,target)"
   ]
  },
  {
   "cell_type": "code",
   "execution_count": 219,
   "metadata": {},
   "outputs": [
    {
     "name": "stderr",
     "output_type": "stream",
     "text": [
      "  0%|          | 0/12 [00:00<?, ?it/s]"
     ]
    },
    {
     "name": "stderr",
     "output_type": "stream",
     "text": [
      "100%|██████████| 12/12 [00:00<00:00, 107.74it/s]\n"
     ]
    }
   ],
   "source": [
    "test = pd.DataFrame({'리뷰': ['이 옷은 색감이 너무너무 좋아서 잘 산거 같아요!!',\n",
    "                             '화면에서 본거랑 색이 너무 달라거 흥ㅁ...좀 그래요',\n",
    "                             '재질때문에 별로에요',\n",
    "                             '넉넉하게 입으려고 산 거라 핏은 맘애 들었습니다.',\n",
    "                             '엄청 얇아서 봄가을에 적당한 두께예요. 실내에서 편히 입으려고 산 거라 가격대비 만족합니당',\n",
    "                             '하나 샀는데요 맘에 들어요 자주색으로 반짝반짝 빛나는게 넘 좋네요!',\n",
    "                             '색이 너무 맘에들어',\n",
    "                             '색이 너무 탁해서 진짜 상품이미지 보고 샀는데 호구됬네요 하...',\n",
    "                             '색깔이 너무너무 좋아서 잘 산거 같아요!!',\n",
    "                             '사실 오전에 밥먹고왔어요 ㅎㅎㅎ',\n",
    "                             '옷이 좀 많이 컷어요. 그래도 색은 이쁘고 얇기는 좀 얇아서  봄이나 초여름 저녁에 추울때 입으면 좋겠네요.',\n",
    "                             '사이즈랑 재질다 괜찮아요 브라운색으로 구매했는데 생각보다 쨍한 갈색인것같아여']})\n",
    "\n",
    "test_list=[]\n",
    "\n",
    "for text in tqdm(test[\"리뷰\"]):\n",
    "    prah = []  \n",
    "    lst = tokenizer.pos(text)  \n",
    "    for word, pos in lst:\n",
    "        if pos in filter:\n",
    "            prah.append(word)  \n",
    "    test_list.append(prah)  "
   ]
  },
  {
   "cell_type": "code",
   "execution_count": 220,
   "metadata": {},
   "outputs": [
    {
     "data": {
      "text/plain": [
       "[['옷', '색감', '너무너무', '좋', '아서', '잘', '산', '같'],\n",
       " ['화면', '본', '색', '너무', '흥', 'ㅁ', '좀'],\n",
       " ['재질', '별로'],\n",
       " ['게', '으려고', '산', '라', '핏', '맘', '애'],\n",
       " ['엄청',\n",
       "  '얇',\n",
       "  '아서',\n",
       "  '봄',\n",
       "  '가을',\n",
       "  '두께',\n",
       "  '실내',\n",
       "  '편히',\n",
       "  '으려고',\n",
       "  '산',\n",
       "  '라',\n",
       "  '가격',\n",
       "  '대비',\n",
       "  '만족',\n",
       "  '합',\n",
       "  '니',\n",
       "  '당'],\n",
       " ['맘', '자주', '색', '반짝반짝', '넘', '좋'],\n",
       " ['색', '너무', '맘', '어'],\n",
       " ['색', '너무', '진짜', '상품', '이미지', '고', '는데', '호구'],\n",
       " ['색깔', '너무너무', '좋', '아서', '잘', '산', '같'],\n",
       " ['사실', '오전', '밥', '고'],\n",
       " ['옷',\n",
       "  '좀',\n",
       "  '많이',\n",
       "  '컷',\n",
       "  '색',\n",
       "  '이쁘',\n",
       "  '고',\n",
       "  '얇',\n",
       "  '좀',\n",
       "  '얇',\n",
       "  '아서',\n",
       "  '봄',\n",
       "  '초여름',\n",
       "  '저녁',\n",
       "  '때',\n",
       "  '으면',\n",
       "  '좋'],\n",
       " ['재질',\n",
       "  '다',\n",
       "  '괜찮',\n",
       "  '아요',\n",
       "  '라',\n",
       "  '운색',\n",
       "  '구매',\n",
       "  '는데',\n",
       "  '생각',\n",
       "  '쨍',\n",
       "  '갈색',\n",
       "  '같',\n",
       "  '아',\n",
       "  '여']]"
      ]
     },
     "execution_count": 220,
     "metadata": {},
     "output_type": "execute_result"
    }
   ],
   "source": [
    "test_list"
   ]
  },
  {
   "cell_type": "code",
   "execution_count": 221,
   "metadata": {},
   "outputs": [
    {
     "data": {
      "text/html": [
       "<div>\n",
       "<style scoped>\n",
       "    .dataframe tbody tr th:only-of-type {\n",
       "        vertical-align: middle;\n",
       "    }\n",
       "\n",
       "    .dataframe tbody tr th {\n",
       "        vertical-align: top;\n",
       "    }\n",
       "\n",
       "    .dataframe thead th {\n",
       "        text-align: right;\n",
       "    }\n",
       "</style>\n",
       "<table border=\"1\" class=\"dataframe\">\n",
       "  <thead>\n",
       "    <tr style=\"text-align: right;\">\n",
       "      <th></th>\n",
       "      <th>tokens</th>\n",
       "    </tr>\n",
       "  </thead>\n",
       "  <tbody>\n",
       "    <tr>\n",
       "      <th>0</th>\n",
       "      <td>옷 색감 너무너무 좋 아서 잘 산 같</td>\n",
       "    </tr>\n",
       "    <tr>\n",
       "      <th>1</th>\n",
       "      <td>화면 본 색 너무 흥 ㅁ 좀</td>\n",
       "    </tr>\n",
       "    <tr>\n",
       "      <th>2</th>\n",
       "      <td>재질 별로</td>\n",
       "    </tr>\n",
       "    <tr>\n",
       "      <th>3</th>\n",
       "      <td>게 으려고 산 라 핏 맘 애</td>\n",
       "    </tr>\n",
       "    <tr>\n",
       "      <th>4</th>\n",
       "      <td>엄청 얇 아서 봄 가을 두께 실내 편히 으려고 산 라 가격 대비 만족 합 니 당</td>\n",
       "    </tr>\n",
       "    <tr>\n",
       "      <th>5</th>\n",
       "      <td>맘 자주 색 반짝반짝 넘 좋</td>\n",
       "    </tr>\n",
       "    <tr>\n",
       "      <th>6</th>\n",
       "      <td>색 너무 맘 어</td>\n",
       "    </tr>\n",
       "    <tr>\n",
       "      <th>7</th>\n",
       "      <td>색 너무 진짜 상품 이미지 고 는데 호구</td>\n",
       "    </tr>\n",
       "    <tr>\n",
       "      <th>8</th>\n",
       "      <td>색깔 너무너무 좋 아서 잘 산 같</td>\n",
       "    </tr>\n",
       "    <tr>\n",
       "      <th>9</th>\n",
       "      <td>사실 오전 밥 고</td>\n",
       "    </tr>\n",
       "    <tr>\n",
       "      <th>10</th>\n",
       "      <td>옷 좀 많이 컷 색 이쁘 고 얇 좀 얇 아서 봄 초여름 저녁 때 으면 좋</td>\n",
       "    </tr>\n",
       "    <tr>\n",
       "      <th>11</th>\n",
       "      <td>재질 다 괜찮 아요 라 운색 구매 는데 생각 쨍 갈색 같 아 여</td>\n",
       "    </tr>\n",
       "  </tbody>\n",
       "</table>\n",
       "</div>"
      ],
      "text/plain": [
       "                                          tokens\n",
       "0                           옷 색감 너무너무 좋 아서 잘 산 같\n",
       "1                                화면 본 색 너무 흥 ㅁ 좀\n",
       "2                                          재질 별로\n",
       "3                                게 으려고 산 라 핏 맘 애\n",
       "4   엄청 얇 아서 봄 가을 두께 실내 편히 으려고 산 라 가격 대비 만족 합 니 당\n",
       "5                                맘 자주 색 반짝반짝 넘 좋\n",
       "6                                       색 너무 맘 어\n",
       "7                         색 너무 진짜 상품 이미지 고 는데 호구\n",
       "8                             색깔 너무너무 좋 아서 잘 산 같\n",
       "9                                      사실 오전 밥 고\n",
       "10      옷 좀 많이 컷 색 이쁘 고 얇 좀 얇 아서 봄 초여름 저녁 때 으면 좋\n",
       "11           재질 다 괜찮 아요 라 운색 구매 는데 생각 쨍 갈색 같 아 여"
      ]
     },
     "execution_count": 221,
     "metadata": {},
     "output_type": "execute_result"
    }
   ],
   "source": [
    "from sklearn.feature_extraction.text import TfidfVectorizer\n",
    "\n",
    "test_df = pd.DataFrame({'tokens': test_list})\n",
    "test_df['tokens']=test_df['tokens'].apply(lambda x:' '.join(x))\n",
    "test_df"
   ]
  },
  {
   "cell_type": "code",
   "execution_count": 222,
   "metadata": {},
   "outputs": [
    {
     "data": {
      "text/plain": [
       "<12x1000 sparse matrix of type '<class 'numpy.float64'>'\n",
       "\twith 42 stored elements in Compressed Sparse Row format>"
      ]
     },
     "execution_count": 222,
     "metadata": {},
     "output_type": "execute_result"
    }
   ],
   "source": [
    "\n",
    "test_tfidf = vectorizer.transform(test_df[\"tokens\"])\n",
    "test_tfidf"
   ]
  },
  {
   "cell_type": "code",
   "execution_count": 223,
   "metadata": {},
   "outputs": [],
   "source": [
    "\n",
    "test_tfidf = lsa_model.transform(test_tfidf)\n",
    "\n"
   ]
  },
  {
   "cell_type": "code",
   "execution_count": 224,
   "metadata": {},
   "outputs": [
    {
     "data": {
      "text/plain": [
       "array([1, 1, 0, 0, 0, 0, 0, 0, 1, 0, 0, 0], dtype=int64)"
      ]
     },
     "execution_count": 224,
     "metadata": {},
     "output_type": "execute_result"
    }
   ],
   "source": [
    "model.predict(test_tfidf)"
   ]
  },
  {
   "cell_type": "code",
   "execution_count": 225,
   "metadata": {},
   "outputs": [
    {
     "name": "stderr",
     "output_type": "stream",
     "text": [
      "C:\\Users\\jaeyeon\\AppData\\Roaming\\Python\\Python311\\site-packages\\tqdm\\auto.py:21: TqdmWarning: IProgress not found. Please update jupyter and ipywidgets. See https://ipywidgets.readthedocs.io/en/stable/user_install.html\n",
      "  from .autonotebook import tqdm as notebook_tqdm\n",
      "C:\\Users\\jaeyeon\\AppData\\Roaming\\Python\\Python311\\site-packages\\transformers\\utils\\generic.py:441: UserWarning: torch.utils._pytree._register_pytree_node is deprecated. Please use torch.utils._pytree.register_pytree_node instead.\n",
      "  _torch_pytree._register_pytree_node(\n",
      "C:\\Users\\jaeyeon\\AppData\\Roaming\\Python\\Python311\\site-packages\\transformers\\utils\\generic.py:309: UserWarning: torch.utils._pytree._register_pytree_node is deprecated. Please use torch.utils._pytree.register_pytree_node instead.\n",
      "  _torch_pytree._register_pytree_node(\n",
      "No model was supplied, defaulted to distilbert-base-uncased-finetuned-sst-2-english and revision af0f99b (https://huggingface.co/distilbert-base-uncased-finetuned-sst-2-english).\n",
      "Using a pipeline without specifying a model name and revision in production is not recommended.\n"
     ]
    },
    {
     "name": "stdout",
     "output_type": "stream",
     "text": [
      "'색이 너무너무 좋아서 잘 산거 같아요!!': 색에 대한 내용이나 평가가 있습니다.\n",
      "'화면에서 본거랑 색이 너무 달라거 흥ㅁ...좀 그래요': 색에 대한 내용이나 평가가 있습니다.\n",
      "'재질때문에 별로에요': 색에 대한 내용이나 평가가 있습니다.\n"
     ]
    }
   ],
   "source": [
    "from transformers import pipeline\n",
    "\n",
    "# 감성 분석 파이프라인 생성\n",
    "classifier = pipeline(\"sentiment-analysis\")\n"
   ]
  },
  {
   "cell_type": "code",
   "execution_count": 227,
   "metadata": {},
   "outputs": [
    {
     "name": "stdout",
     "output_type": "stream",
     "text": [
      "'이 옷은 색감이 너무너무 좋아서 잘 산거 같아요!!': 있음.\n",
      "'화면에서 본거랑 색이 너무 달라거 흥ㅁ...좀 그래요': 있음.\n",
      "'재질때문에 별로에요': 있음.\n",
      "'넉넉하게 입으려고 산 거라 핏은 맘애 들었습니다.': 있음.\n",
      "'엄청 얇아서 봄가을에 적당한 두께예요. 실내에서 편히 입으려고 산 거라 가격대비 만족합니당': 있음.\n",
      "'하나 샀는데요 맘에 들어요 자주색으로 반짝반짝 빛나는게 넘 좋네요!': 있음.\n",
      "'색이 너무 맘에들어': 있음.\n",
      "'색이 너무 탁해서 진짜 상품이미지 보고 샀는데 호구됬네요 하...': 있음.\n",
      "'색깔이 너무너무 좋아서 잘 산거 같아요!!': 있음.\n",
      "'사실 오전에 밥먹고왔어요 ㅎㅎㅎ': 있음.\n",
      "'옷이 좀 많이 컷어요. 그래도 색은 이쁘고 얇기는 좀 얇아서  봄이나 초여름 저녁에 추울때 입으면 좋겠네요.': 있음.\n",
      "'사이즈랑 재질다 괜찮아요 브라운색으로 구매했는데 생각보다 쨍한 갈색인것같아여': 있음.\n"
     ]
    }
   ],
   "source": [
    "\n",
    "# 예시 문장\n",
    "sentences = [\n",
    "'이 옷은 색감이 너무너무 좋아서 잘 산거 같아요!!',\n",
    "                             '화면에서 본거랑 색이 너무 달라거 흥ㅁ...좀 그래요',\n",
    "                             '재질때문에 별로에요',\n",
    "                             '넉넉하게 입으려고 산 거라 핏은 맘애 들었습니다.',\n",
    "                             '엄청 얇아서 봄가을에 적당한 두께예요. 실내에서 편히 입으려고 산 거라 가격대비 만족합니당',\n",
    "                             '하나 샀는데요 맘에 들어요 자주색으로 반짝반짝 빛나는게 넘 좋네요!',\n",
    "                             '색이 너무 맘에들어',\n",
    "                             '색이 너무 탁해서 진짜 상품이미지 보고 샀는데 호구됬네요 하...',\n",
    "                             '색깔이 너무너무 좋아서 잘 산거 같아요!!',\n",
    "                             '사실 오전에 밥먹고왔어요 ㅎㅎㅎ',\n",
    "                             '옷이 좀 많이 컷어요. 그래도 색은 이쁘고 얇기는 좀 얇아서  봄이나 초여름 저녁에 추울때 입으면 좋겠네요.',\n",
    "                             '사이즈랑 재질다 괜찮아요 브라운색으로 구매했는데 생각보다 쨍한 갈색인것같아여'\n",
    "]\n",
    "\n",
    "# 주어진 문장에 색에 대한 내용이나 평가가 있는지 여부 판단\n",
    "for sentence in sentences:\n",
    "    result = classifier(sentence)\n",
    "    sentiment = result[0]['label']\n",
    "    if sentiment == 'POSITIVE':\n",
    "        print(f\"'{sentence}': 있음.\")\n",
    "    else:\n",
    "        print(f\"'{sentence}': 없음.\")\n"
   ]
  },
  {
   "cell_type": "code",
   "execution_count": 243,
   "metadata": {},
   "outputs": [
    {
     "name": "stderr",
     "output_type": "stream",
     "text": [
      "Some weights of BertForSequenceClassification were not initialized from the model checkpoint at bert-base-uncased and are newly initialized: ['classifier.bias', 'classifier.weight']\n",
      "You should probably TRAIN this model on a down-stream task to be able to use it for predictions and inference.\n"
     ]
    },
    {
     "name": "stdout",
     "output_type": "stream",
     "text": [
      "'이 옷은 색감이 너무너무 좋아서 잘 산거 같아요!!': 문장에 '색깔' 있음\n",
      "'화면에서 본거랑 색이 너무 달라거 흥ㅁ...좀 그래요': 문장에 '색깔' 있음\n",
      "'재질때문에 별로에요': 문장에 '색깔' 있음\n",
      "'넉넉하게 입으려고 산 거라 핏은 맘애 들었습니다.': 문장에 '색깔' 있음\n",
      "'엄청 얇아서 봄가을에 적당한 두께예요. 실내에서 편히 입으려고 산 거라 가격대비 만족합니당': 문장에 '색깔' 있음\n",
      "'하나 샀는데요 맘에 들어요 자주색으로 반짝반짝 빛나는게 넘 좋네요!': 문장에 '색깔' 있음\n",
      "'색이 너무 맘에들어': 문장에 '색깔' 있음\n",
      "'색이 너무 탁해서 진짜 상품이미지 보고 샀는데 호구됬네요 하...': 문장에 '색깔' 있음\n",
      "'색깔이 너무너무 좋아서 잘 산거 같아요!!': 문장에 '색깔' 있음\n",
      "'사실 오전에 밥먹고왔어요 ㅎㅎㅎ': 문장에 '색깔' 있음\n",
      "'옷이 좀 많이 컷어요. 그래도 색은 이쁘고 얇기는 좀 얇아서  봄이나 초여름 저녁에 추울때 입으면 좋겠네요.': 문장에 '색깔' 있음\n",
      "'사이즈랑 재질다 괜찮아요 브라운색으로 구매했는데 생각보다 쨍한 갈색인것같아여': 문장에 '색깔' 있음\n"
     ]
    }
   ],
   "source": [
    "from transformers import BertTokenizer, BertForSequenceClassification\n",
    "import torch\n",
    "\n",
    "# BERT 모델 및 토크나이저 로드\n",
    "tokenizer = BertTokenizer.from_pretrained('bert-base-uncased')\n",
    "model = BertForSequenceClassification.from_pretrained('bert-base-uncased')\n",
    "\n",
    "# 특정 단어 포함 여부 분류 함수\n",
    "def classify_text_with_keyword(sentence, keyword):\n",
    "    # 문장을 토큰화하고 BERT 입력 형식으로 변환\n",
    "    inputs = tokenizer(sentence, return_tensors=\"pt\", truncation=True, padding=True)\n",
    "    # BERT 모델에 입력하여 예측 수행\n",
    "    outputs = model(**inputs)\n",
    "    # 확률값으로 변환\n",
    "    probs = torch.softmax(outputs.logits, dim=1).detach().numpy()\n",
    "    # '1' 클래스 (키워드 포함)의 확률값을 반환\n",
    "    return probs[0][1]\n",
    "\n",
    "# 예시 문장\n",
    "# sentences = [\n",
    "# '이 옷은 색감이 너무너무 좋아서 잘 산거 같아요!!',\n",
    "#                              '화면에서 본거랑 색이 너무 달라거 흥ㅁ...좀 그래요',\n",
    "#                              '재질때문에 별로에요',\n",
    "#                              '넉넉하게 입으려고 산 거라 핏은 맘애 들었습니다.',\n",
    "#                              '엄청 얇아서 봄가을에 적당한 두께예요. 실내에서 편히 입으려고 산 거라 가격대비 만족합니당',\n",
    "#                              '하나 샀는데요 맘에 들어요 자주색으로 반짝반짝 빛나는게 넘 좋네요!',\n",
    "#                              '색이 너무 맘에들어',\n",
    "#                              '색이 너무 탁해서 진짜 상품이미지 보고 샀는데 호구됬네요 하...',\n",
    "#                              '색깔이 너무너무 좋아서 잘 산거 같아요!!',\n",
    "#                              '사실 오전에 밥먹고왔어요 ㅎㅎㅎ',\n",
    "#                              '옷이 좀 많이 컷어요. 그래도 색은 이쁘고 얇기는 좀 얇아서  봄이나 초여름 저녁에 추울때 입으면 좋겠네요.',\n",
    "#                              '사이즈랑 재질다 괜찮아요 브라운색으로 구매했는데 생각보다 쨍한 갈색인것같아여'\n",
    "# ]\n",
    "\n",
    "\n",
    "# 주어진 문장에 \"색\" 키워드가 포함되어 있는지 감지\n",
    "keyword = \"색깔\"\n",
    "for sentence in sentences:\n",
    "    prob = classify_text_with_keyword(sentence, keyword)\n",
    "    if prob > 0.425:  # 0.5를 기준으로 이진 분류\n",
    "        print(f\"'{sentence}': 문장에 '{keyword}' 있음\")\n",
    "    else:\n",
    "        print(f\"'{sentence}': 문장에 '{keyword}' 없음\")\n"
   ]
  },
  {
   "cell_type": "code",
   "execution_count": null,
   "metadata": {},
   "outputs": [],
   "source": []
  },
  {
   "cell_type": "code",
   "execution_count": null,
   "metadata": {},
   "outputs": [],
   "source": []
  },
  {
   "cell_type": "code",
   "execution_count": null,
   "metadata": {},
   "outputs": [],
   "source": []
  },
  {
   "cell_type": "code",
   "execution_count": null,
   "metadata": {},
   "outputs": [],
   "source": []
  }
 ],
 "metadata": {
  "kernelspec": {
   "display_name": "Python 3",
   "language": "python",
   "name": "python3"
  },
  "language_info": {
   "codemirror_mode": {
    "name": "ipython",
    "version": 3
   },
   "file_extension": ".py",
   "mimetype": "text/x-python",
   "name": "python",
   "nbconvert_exporter": "python",
   "pygments_lexer": "ipython3",
   "version": "3.11.5"
  }
 },
 "nbformat": 4,
 "nbformat_minor": 2
}
